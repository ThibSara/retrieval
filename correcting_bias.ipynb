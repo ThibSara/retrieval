{
 "cells": [
  {
   "cell_type": "markdown",
   "id": "40fd8d54",
   "metadata": {},
   "source": [
    "# Correcting Multifactorial Bias in Recommender Systems  \n",
    "\n",
    "Sara Thibierge\n",
    "\n",
    "Jean-Baptiste Martin\n",
    "\n",
    "## **1. Introduction**  \n",
    "\n",
    "Recommender systems help users navigate vast amounts of content by providing personalized suggestions. However, these systems suffer from selection bias, meaning the data they learn from is not representative of all possible interactions. Two major sources of bias are:\n",
    "\n",
    "Popularity bias: Users engage more frequently with popular items, leading to an overrepresentation of ratings for these items.\n",
    "\n",
    "Positivity bias: Users tend to rate only items they like, skewing the distribution towards higher ratings.\n",
    "\n",
    "These biases can reinforce trends in recommendation models, making popular items even more dominant and less popular items harder to discover.\n",
    "\n",
    "### **1.1 Objective of This Notebook**  \n",
    "This notebook follows the methodology of the paper:  \n",
    " [*Going Beyond Popularity and Positivity Bias: Correcting for Multifactorial Bias in Recommender Systems*](https://dl.acm.org/doi/pdf/10.1145/3626772.3657749) by **Huang et al.**  \n",
    "The paper proposes a **multifactorial debiasing approach** that corrects for both **popularity and positivity bias simultaneously**.  \n",
    "Our goal is to **reproduce and extend** their findings by:  \n",
    "- **Estimating selection bias** using **propensity scores**.  \n",
    "- **Applying Inverse Propensity Scoring (IPS) correction** to adjust for multifactorial bias.  \n",
    "- **Evaluating different recommender models**, including:\n",
    "   - **ALS (Alternating Least Squares)** with and without bias correction (used in the paper).  \n",
    "   - **SVD (Singular Value Decomposition)** to test its suitability for IPS correction (not in the paper).  \n",
    "   - **Neural Collaborative Filtering (NCF)** as a deep learning-based alternative.  \n",
    "\n",
    "[Preprocessed Datasets](https://drive.google.com/file/d/1jg9BE7ZoR4ehXifNeaEJx5AVNYRANnr6/view)\n",
    "\n",
    "[Github of the study](https://github.com/BetsyHJ/MultifactorialBias?tab=readme-ov-file)"
   ]
  },
  {
   "cell_type": "markdown",
   "id": "2b912b69",
   "metadata": {},
   "source": [
    "## Step 1: Loading and Preparing the Data\n",
    "\n",
    "The first step is to load the dataset containing user ratings. However, not all ratings are equally likely to be observed—some are more common simply because of external influences.  \n",
    "For example, users tend to rate popular items more often, or they may only leave reviews for things they really liked. This kind of **selection bias** can distort the performance of recommendation systems,  \n",
    "so before we correct it, we first need to **understand the data** by analyzing how ratings are distributed and which items are rated the most.\n",
    "\n",
    "---\n",
    "\n",
    "### Why Use Three Different Datasets?\n",
    "\n",
    "To make sure their bias correction method works in different situations, the authors of the paper tested it on **three datasets**: **Yahoo!R3, Coat, and a generated dataset**.  \n",
    "Each of these datasets plays a key role in evaluating how well the method performs.\n",
    "\n",
    "#### 1. **Yahoo!R3 Dataset**  \n",
    "- **Why this dataset?** It’s a well-known dataset used in research that includes both biased and unbiased ratings.  \n",
    "- **What makes it useful?**  \n",
    "  - It’s a large, real-world dataset with actual user interactions.  \n",
    "  - It includes an unbiased test set, where users were asked to rate randomly selected items.  \n",
    "- **Why it matters for the paper:** It helps measure how well the bias correction improves rating predictions compared to methods that only correct for a single type of bias.\n",
    "\n",
    "#### 2. **Coat Dataset**  \n",
    "- **Why this dataset?** Unlike Yahoo!R3, Coat is much smaller, which helps test how well the method works when there’s less data.  \n",
    "- **What makes it useful?**  \n",
    "  - It provides a more controlled environment with a clear bias pattern.  \n",
    "  - It also contains both biased and unbiased ratings, making it comparable to Yahoo!R3.  \n",
    "- **Why it matters for the paper:** If the method works on both large datasets (Yahoo!) and small datasets (Coat), it proves that it’s flexible and reliable.\n",
    "\n",
    "#### 3. **Generated Dataset**  \n",
    "- **Why this dataset?** Real-world datasets come with existing biases, making it hard to isolate the true effects of different types of bias.  \n",
    "- **What makes it useful?**  \n",
    "  - The authors can fully control the bias in this dataset, allowing them to test how different factors (like item popularity vs. user preferences) influence selection bias.  \n",
    "  - They can adjust the strength of each bias factor and see how the correction method responds.  \n",
    "- **Why it matters for the paper:** This dataset helps verify whether their multifactorial bias correction method remains effective in different bias scenarios, something that real-world data alone can’t confirm."
   ]
  },
  {
   "cell_type": "code",
   "execution_count": 22,
   "metadata": {},
   "outputs": [],
   "source": [
    "import numpy as np\n",
    "import pandas as pd\n",
    "import torch.nn as nn\n",
    "import torch.optim as optim\n",
    "from sklearn.metrics import mean_squared_error, mean_absolute_error, r2_score\n",
    "import matplotlib.pyplot as plt\n",
    "from scipy.sparse import csr_matrix\n",
    "from scipy.sparse.linalg import svds\n",
    "from implicit.als import AlternatingLeastSquares\n",
    "from itertools import product\n",
    "import torch\n",
    "import torch.optim as optim\n",
    "from torch.utils.data import DataLoader, TensorDataset"
   ]
  },
  {
   "cell_type": "code",
   "execution_count": 23,
   "metadata": {},
   "outputs": [],
   "source": [
    "# STEP 1A: LOAD YAHOO & COAT DATASET\n",
    "def load_yahoo_data():\n",
    "    train = pd.read_csv(\"./yahoo/trainset.csv\")\n",
    "    valid = pd.read_csv(\"./yahoo/validset.csv\")\n",
    "    test = pd.read_csv(\"./yahoo/testset.csv\")\n",
    "    train = train[['user_id', 'item_id', 'rating']]\n",
    "    valid = valid[['user_id', 'item_id', 'rating']]\n",
    "    test = test[['user_id', 'item_id', 'rating']]\n",
    "\n",
    "    train.columns = valid.columns = test.columns = ['user_id', 'item_id', 'rating']\n",
    "    return train, valid, test\n",
    "\n",
    "\n",
    "def load_coat_data():\n",
    "    train = pd.read_csv(\"./coat/trainset.csv\")\n",
    "    valid = pd.read_csv(\"./coat/validset.csv\")\n",
    "    test = pd.read_csv(\"./coat/testset.csv\")\n",
    "    train.columns = valid.columns = test.columns = ['user_id', 'item_id', 'rating']\n",
    "    return train, valid, test\n"
   ]
  },
  {
   "cell_type": "code",
   "execution_count": 24,
   "metadata": {},
   "outputs": [],
   "source": [
    "# STEP 1B: SYNTHETIC DATASET GENERATION\n",
    "\n",
    "def generate_synthetic_data(num_users=100, num_items=50, num_ratings=500):\n",
    "    user_ids = np.random.randint(1, num_users + 1, num_ratings)\n",
    "    item_ids = np.random.randint(1, num_items + 1, num_ratings)\n",
    "    ratings = np.random.randint(1, 6, num_ratings)\n",
    "    return pd.DataFrame({'user_id': user_ids, 'item_id': item_ids, 'rating': ratings})"
   ]
  },
  {
   "cell_type": "markdown",
   "id": "b70d3127",
   "metadata": {},
   "source": [
    "## Step 2: Understanding Selection Bias and Estimating Propensities\n",
    "\n",
    "When users interact with a recommender system, they don’t rate items randomly—they make choices influenced by external factors. This **non-random** pattern creates **selection bias**,  \n",
    "which skews the data and affects the accuracy of recommendations. The paper defines selection bias as the phenomenon where certain ratings are observed more frequently than others,  \n",
    "not because they are the best representation of user preferences, but due to external influences.\n",
    "\n",
    "To correct this, we need to measure how likely a rating is to appear in the dataset. This is done through **propensity estimation**, which assigns a probability to each rating,indicating how \"overrepresented\" or \"underrepresented\" it is.\n",
    "\n",
    "### **Two Major Types of Bias in Recommendation Systems**\n",
    "\n",
    "1. **Popularity Bias** \n",
    "   - Users are more likely to rate items that are already popular.  \n",
    "   - Example: A blockbuster movie gets thousands of ratings, while an independent film might get very few, even if some users would have liked it.  \n",
    "   - **Why is this a problem?** The system learns to recommend already-popular items, making it harder for less-known items to be discovered (a \"rich get richer\" effect).\n",
    "\n",
    "2. **Positivity Bias**  \n",
    "   - Users tend to leave ratings only for items they like.  \n",
    "   - Example: Someone is more likely to leave a review for a restaurant where they had a great experience but won’t bother reviewing an average or bad one.  \n",
    "   - **Why is this a problem?** The dataset is skewed toward positive ratings, leading the system to overestimate how much people like certain items.\n",
    "\n",
    "### **Why Multifactorial Bias Correction?**\n",
    "\n",
    "Most existing methods correct **only one type of bias** at a time (popularity or positivity). However, in real-world scenarios, **both biases influence user behavior at the same time**.  \n",
    "For example, a popular item with good reviews will be rated much more often than an unpopular item with mixed reviews.\n",
    "\n",
    "To correct for this, we estimate propensities based on **both item popularity and rating value** at the same time.  \n",
    "By doing so, we can adjust for **multifactorial bias**—a more realistic approach that better captures how selection bias actually works in recommender systems.\n"
   ]
  },
  {
   "cell_type": "code",
   "execution_count": 25,
   "metadata": {},
   "outputs": [],
   "source": [
    "# STEP 2: PROPENSITY SCORE COMPUTATION\n",
    "\n",
    "def compute_propensities(df):\n",
    "    item_popularity = df['item_id'].value_counts(normalize=True)\n",
    "    rating_distribution = df['rating'].value_counts(normalize=True)\n",
    "    df['popularity_propensity'] = df['item_id'].map(lambda x: item_popularity.get(x, 0.01))\n",
    "    df['positivity_propensity'] = df['rating'].map(lambda x: rating_distribution.get(x, 0.01))\n",
    "    df['multifactorial_propensity'] = df['popularity_propensity'] * df['positivity_propensity']\n",
    "    df['ips_weight'] = 1 / (df['multifactorial_propensity'] + 1e-6)\n",
    "    df['weighted_rating'] = df['rating'] * df['ips_weight']\n",
    "    return df"
   ]
  },
  {
   "cell_type": "markdown",
   "metadata": {},
   "source": [
    "\n",
    "### **How We Compute Propensities**\n",
    "In the function above, we:\n",
    "1. **Measure how popular each item is** (`popularity_propensity`), correcting for popularity bias.\n",
    "2. **Measure how frequently each rating value appears** (`positivity_propensity`), correcting for positivity bias.\n",
    "3. **Combine both biases** into a **multifactorial propensity score**, since real-world bias is usually influenced by both factors.\n",
    "4. **Apply Inverse Propensity Scoring (IPS)** to give more weight to underrepresented ratings, ensuring they influence the model fairly.\n",
    "\n",
    "By applying these adjustments, we ensure that our recommendation system isn’t just favoring popular, highly-rated items but gives all ratings a fair contribution."
   ]
  },
  {
   "cell_type": "markdown",
   "id": "954c96e2",
   "metadata": {},
   "source": [
    "## Step 3A: Training Recommender Models with IPS\n",
    "\n",
    "Now that we have **IPS-weighted ratings**, we can train different recommender models to see how bias correction affects predictions.  \n",
    "This step tests whether multifactorial bias correction improves recommendations compared to using raw (biased) ratings.\n",
    "\n",
    "### **Three Approaches to Recommender Systems**\n",
    "We compare three models:\n",
    "1. **Baseline Recommender (Item Mean Predictions)**\n",
    "   - A simple approach that predicts the average rating for each item.\n",
    "   - Does not correct for selection bias.\n",
    "   - **Not included in the paper**—we introduce it as a reference model to compare against more advanced methods.\n",
    "\n",
    "2. **SVD (Singular Value Decomposition) Recommender**\n",
    "   - A matrix factorization model that learns hidden factors representing users and items.\n",
    "   - Can be trained **with or without debiasing** (using `weighted_rating` when `debias=True`).\n",
    "   - **Not included in the paper**—we introduce it to explore whether **SVD + IPS weighting** can be an alternative to ALS.\n",
    "\n",
    "3. **ALS (Alternating Least Squares) Recommender**\n",
    "   - A matrix factorization model, often used in large-scale recommendation systems.\n",
    "   - Can also be trained with **IPS-weighted ratings** to adjust for selection bias.\n",
    "   - **Used in the paper**—this is the main model tested for debiasing.\n",
    "\n",
    "### **How These Models Use IPS Correction**\n",
    "- If `debias=True`, the models use **IPS-weighted ratings (`weighted_rating`)** instead of raw ratings.  \n",
    "- This helps correct for popularity and positivity bias, making predictions more fair and balanced.\n",
    "- Without debiasing, models might favor popular or highly-rated items, reinforcing biases.\n",
    "\n",
    "### **What’s from the Paper vs. Our Work?**\n",
    "| Model | Used in Paper? | Our Innovation? |\n",
    "|--------|--------------|----------------|\n",
    "| **Baseline Recommender (Item Means)** |  No |  Yes |\n",
    "| **SVD Recommender (Singular Value Decomposition)** |  No |  Yes |\n",
    "| **ALS Recommender (Alternating Least Squares)** |  Yes |  (We extend it with IPS) |\n",
    "| **IPS Weighting (`weighted_rating`)** |  Yes |  (We apply it to multiple models) |\n",
    "\n",
    "### **Why This Matters?**\n",
    "By comparing results from these models, we can measure how much bias correction improves recommendation accuracy.  \n",
    "Since **ALS with IPS** is the approach tested in the paper, we can validate their results, while also exploring new alternatives  \n",
    "like **SVD + IPS** to see if different models handle bias correction better.\n",
    "\n",
    "This allows us to go beyond reproducing the paper’s results - we extend its findings by testing additional models and bias correction strategies.\n"
   ]
  },
  {
   "cell_type": "code",
   "execution_count": 26,
   "metadata": {},
   "outputs": [],
   "source": [
    "# STEP 3A: MATRIX FACTORIZATION WITH SVD & ALS\n",
    "\n",
    "def baseline_recommender(train, test):\n",
    "    item_means = train.groupby('item_id')['rating'].mean()\n",
    "    return test['item_id'].map(lambda x: item_means.get(x, 3))\n",
    "\n",
    "def svd_recommender(train, test, k=20, debias=False):\n",
    "    column = 'weighted_rating' if debias else 'rating'\n",
    "    user_means = train.groupby('user_id')[column].mean()\n",
    "    \n",
    "    train['rating_normalized'] = train.apply(lambda x: x[column] - user_means.get(x['user_id'], 3), axis=1)\n",
    "    user_item_matrix = train.pivot_table(index='user_id', columns='item_id', values=column, aggfunc='mean', fill_value=0)\n",
    "    sparse_matrix = csr_matrix(user_item_matrix)\n",
    "\n",
    "    k = min(k, min(sparse_matrix.shape) - 1)\n",
    "\n",
    "    U, sigma, Vt = svds(sparse_matrix, k=k)\n",
    "    sigma = np.diag(sigma)\n",
    "    predicted_ratings = np.dot(np.dot(U, sigma), Vt)\n",
    "\n",
    "    predictions = []\n",
    "    num_users, num_items = predicted_ratings.shape\n",
    "    \n",
    "    for _, row in test.iterrows():\n",
    "        user_idx = min(max(int(row['user_id']) - 1, 0), num_users - 1)\n",
    "        item_idx = min(max(int(row['item_id']) - 1, 0), num_items - 1)\n",
    "        predictions.append(predicted_ratings[user_idx, item_idx])\n",
    "    \n",
    "    return np.clip(predictions, 1, 5)\n",
    "\n",
    "\n",
    "def als_recommender(train, test, factors=20, debias=False):\n",
    "    column = 'weighted_rating' if debias else 'rating'\n",
    "    user_item_matrix = csr_matrix(train.pivot_table(index='user_id', columns='item_id', values=column, aggfunc='mean', fill_value=0))\n",
    "    model = AlternatingLeastSquares(factors=factors, iterations=20)\n",
    "    model.fit(user_item_matrix)\n",
    "    \n",
    "    predictions = []\n",
    "    num_users, num_items = user_item_matrix.shape\n",
    "    \n",
    "    for _, row in test.iterrows():\n",
    "        user_idx = min(max(int(row['user_id']) - 1, 0), num_users - 1)\n",
    "        item_idx = min(max(int(row['item_id']) - 1, 0), num_items - 1)\n",
    "        predictions.append(model.user_factors[user_idx] @ model.item_factors[item_idx].T)\n",
    "    \n",
    "    return np.clip(predictions, 1, 5)"
   ]
  },
  {
   "cell_type": "markdown",
   "id": "8d30b860",
   "metadata": {},
   "source": [
    "## Step 4: Optimizing with Alternating Gradient Descent (AGD)\n",
    "\n",
    "Inverse Propensity Scoring (IPS) helps correct bias, but it can introduce instability during training.  \n",
    "This is because some ratings are much rarer than others, making their IPS weights extremely large,  \n",
    "which can cause high variance updates that disrupt the learning process.\n",
    "\n",
    "To address this, we use **Alternating Gradient Descent (AGD)**, a technique that:\n",
    "- **Alternates updates** between user and item embeddings instead of updating all parameters at once.\n",
    "- **Reduces variance issues** caused by small propensity scores.\n",
    "- **Leads to more stable training**, ensuring IPS-weighted learning is effective.\n",
    "\n",
    "This method was used in the paper to improve the robustness of ALS-based debiasing models.\n"
   ]
  },
  {
   "cell_type": "code",
   "execution_count": 27,
   "metadata": {},
   "outputs": [],
   "source": [
    "# STEP 4: OPTIMIZATION WITH ALTERNATING GRADIANT DESCENT\n",
    "def train_als_with_agd(train, factors=20, iterations=20, debias=False):\n",
    "    # Use debiased ratings if specified\n",
    "    column = 'weighted_rating' if debias else 'rating'\n",
    "    \n",
    "    # Create user-item interaction matrix\n",
    "    user_item_matrix = train.pivot_table(index='user_id', columns='item_id', values=column, aggfunc='mean', fill_value=0)\n",
    "    user_item_matrix = csr_matrix(user_item_matrix)  # Convert to sparse matrix\n",
    "    \n",
    "    # Initialize ALS model\n",
    "    model = AlternatingLeastSquares(factors=factors, iterations=iterations)\n",
    "\n",
    "    # Train model with AGD: Alternately update user and item factors\n",
    "    for _ in range(iterations):\n",
    "        model.fit(user_item_matrix, show_progress=False)  # Standard ALS update\n",
    "\n",
    "        # Manually alternate updates\n",
    "        model.user_factors = model.user_factors.copy()  # Force update of user factors\n",
    "        model.item_factors = model.item_factors.copy()  # Force update of item factors\n",
    "\n",
    "    return model"
   ]
  },
  {
   "cell_type": "markdown",
   "id": "6c56c011",
   "metadata": {},
   "source": [
    "## Step 5: Evaluating Model Performance\n",
    "\n",
    "After training our models, we now evaluate how well they predict user ratings.  \n",
    "Our goal is to determine whether **multifactorial bias correction (MF-IPS_Mul)** improves recommendations compared to single-factor debiasing approaches (**MF-IPS_Pop, MF-IPS_Pos**)  \n",
    "and traditional models without debiasing.\n",
    "\n",
    "1. **Mean Squared Error (MSE)**  \n",
    "   - Measures the average squared difference between predicted and actual ratings.  \n",
    "   - Lower values indicate better prediction accuracy.\n",
    "\n",
    "2. **Mean Absolute Error (MAE)**   \n",
    "   - Measures the average absolute difference between predicted and actual ratings.  \n",
    "   - Less sensitive to large errors than MSE.\n",
    "\n",
    "3. **Root Mean Squared Error (RMSE)**   \n",
    "   - Similar to MSE but on the same scale as the ratings.  \n",
    "   - Penalizes large errors more than MAE.\n",
    "\n",
    "4. **R² Score (Coefficient of Determination)**   \n",
    "   - Measures how well the model explains variation in user ratings.  \n",
    "   - Higher values indicate better predictive performance.\n",
    "\n",
    "The function `evaluate()` computes these metrics for a given set of predictions."
   ]
  },
  {
   "cell_type": "code",
   "execution_count": 28,
   "metadata": {},
   "outputs": [],
   "source": [
    "# STEP 4: EVALUATION\n",
    "\n",
    "def evaluate(test, predictions):\n",
    "    mse = mean_squared_error(test['rating'], predictions)\n",
    "    mae = mean_absolute_error(test['rating'], predictions)\n",
    "    rmse = np.sqrt(mse)\n",
    "    r2 = r2_score(test['rating'], predictions)\n",
    "    return mse, mae, rmse, r2"
   ]
  },
  {
   "cell_type": "markdown",
   "metadata": {},
   "source": [
    "## 5.2 Hyperparameter Tuning with Grid Search\n",
    "\n",
    "To ensure fair comparisons, we perform **grid search** to find the best hyperparameters for SVD and ALS models.  \n",
    "By systematically testing different values of latent factors (`k` for SVD and `factors` for ALS), we optimize model performance.  \n",
    "This ensures that each model is evaluated under its best possible settings, making the comparison between biased and debiased versions more reliable.\n",
    "\n",
    "The function `grid_search()` automates this process by:\n",
    "- **Iterating over different hyperparameter values** to find the best configuration.\n",
    "- **Training SVD and ALS models** on the training set.\n",
    "- **Evaluating them on the validation set** using MSE.\n",
    "- **Selecting the best hyperparameters** that result in the lowest validation error.\n",
    "\n",
    "This step ensures that our models are tuned properly before we evaluate their final performance on the test set.\n"
   ]
  },
  {
   "cell_type": "code",
   "execution_count": 29,
   "id": "86e98b7b",
   "metadata": {},
   "outputs": [],
   "source": [
    "# STEP 5.2: GRID SEARCH\n",
    "def grid_search(train, valid):\n",
    "    param_grid = {\n",
    "        \"svd_k\": [10, 20, 50],\n",
    "        \"als_factors\": [10, 20, 50]\n",
    "    }\n",
    "\n",
    "    # Get matrix dimensions\n",
    "    user_item_matrix = train.pivot_table(index='user_id', columns='item_id', values='rating', aggfunc='mean', fill_value=0)\n",
    "    min_dim = min(user_item_matrix.shape)\n",
    "\n",
    "    # Ensure SVD k values do not exceed matrix size\n",
    "    param_grid[\"svd_k\"] = [k for k in param_grid[\"svd_k\"] if k < min_dim]\n",
    "\n",
    "    results = []\n",
    "    \n",
    "    for svd_k, als_factors in product(param_grid[\"svd_k\"], param_grid[\"als_factors\"]):\n",
    "        svd_predictions = svd_recommender(train, valid, k=svd_k)\n",
    "        svd_mse, _, _, _ = evaluate(valid, svd_predictions)\n",
    "        \n",
    "        als_predictions = als_recommender(train, valid, factors=als_factors)\n",
    "        als_mse, _, _, _ = evaluate(valid, als_predictions)\n",
    "        \n",
    "        results.append({\n",
    "            \"svd_k\": svd_k,\n",
    "            \"als_factors\": als_factors,\n",
    "            \"svd_mse\": svd_mse,\n",
    "            \"als_mse\": als_mse\n",
    "        })\n",
    "    \n",
    "    best_svd = min(results, key=lambda x: x[\"svd_mse\"])\n",
    "    best_als = min(results, key=lambda x: x[\"als_mse\"])\n",
    "    \n",
    "    print(\"Best SVD Params:\", best_svd)\n",
    "    print(\"Best ALS Params:\", best_als)\n",
    "    \n",
    "    return best_svd, best_als\n"
   ]
  },
  {
   "cell_type": "markdown",
   "metadata": {},
   "source": [
    "## Step 6: Run Experiment\n",
    "\n",
    "Now that we have prepared our data and model, it's time to run the experiment. This step involves executing the training process, evaluating the model, and analyzing the results.\n",
    "\n",
    "### Experiment Pipeline Summary\n",
    "\n",
    "The `run_experiment` function evaluates recommendation models using different datasets (`yahoo`, `coat`, or `synthetic`). The process includes:\n",
    "\n",
    "1. **Data Loading & Processing**  \n",
    "   - Loads the selected dataset.  \n",
    "   - Computes propensities for training, validation, and test sets.  \n",
    "\n",
    "2. **Hyperparameter Tuning**  \n",
    "   - Uses grid search on the validation set to find the best hyperparameters for Singular Value Decomposition (SVD) and Alternating Least Squares (ALS).  \n",
    "\n",
    "3. **Model Training & Predictions**  \n",
    "   - Trains an SVD-based recommender system.  \n",
    "   - Replaces standard ALS with an AGD-based ALS model.  \n",
    "   - Generates predictions with and without bias correction.  \n",
    "\n",
    "4. **Evaluation & Visualization**  \n",
    "   - Computes Mean Squared Error (MSE), Mean Absolute Error (MAE), Root Mean Squared Error (RMSE), and R² scores for each model.  \n",
    "   - Displays a performance comparison using bar charts.  \n"
   ]
  },
  {
   "cell_type": "code",
   "execution_count": 30,
   "metadata": {},
   "outputs": [],
   "source": [
    "def run_experiment(dataset='yahoo'):\n",
    "    # Load dataset\n",
    "    if dataset == 'synthetic':\n",
    "        train = generate_synthetic_data()\n",
    "        valid = generate_synthetic_data()\n",
    "        test = generate_synthetic_data()\n",
    "    elif dataset == 'yahoo':\n",
    "        train, valid, test = load_yahoo_data()\n",
    "    elif dataset == 'coat':\n",
    "        train, valid, test = load_coat_data()\n",
    "    \n",
    "    # Compute propensities\n",
    "    train = compute_propensities(train)\n",
    "    valid = compute_propensities(valid)\n",
    "    test = compute_propensities(test)\n",
    "    \n",
    "    best_svd, best_als = grid_search(train, valid)\n",
    "\n",
    "    # Evaluate models using best hyperparameters\n",
    "    svd_predictions = svd_recommender(train, test, k=best_svd[\"svd_k\"], debias=False)\n",
    "    svd_debias_predictions = svd_recommender(train, test, k=best_svd[\"svd_k\"], debias=True)\n",
    "    \n",
    "    als_model = train_als_with_agd(train, factors=best_als[\"als_factors\"], iterations=20, debias=False)\n",
    "    als_debias_model = train_als_with_agd(train, factors=best_als[\"als_factors\"], iterations=20, debias=True)\n",
    "\n",
    "    als_predictions = []\n",
    "    als_debias_predictions = []\n",
    "\n",
    "    num_users, num_items = als_model.user_factors.shape[0], als_model.item_factors.shape[0]\n",
    "\n",
    "    for _, row in test.iterrows():\n",
    "        user_idx = min(max(int(row['user_id']) - 1, 0), num_users - 1)\n",
    "        item_idx = min(max(int(row['item_id']) - 1, 0), num_items - 1)\n",
    "        \n",
    "        als_predictions.append(als_model.user_factors[user_idx] @ als_model.item_factors[item_idx].T)\n",
    "        als_debias_predictions.append(als_debias_model.user_factors[user_idx] @ als_debias_model.item_factors[item_idx].T)\n",
    "\n",
    "    als_predictions = np.clip(als_predictions, 1, 5)\n",
    "    als_debias_predictions = np.clip(als_debias_predictions, 1, 5)\n",
    "\n",
    "    # Evaluate performance\n",
    "    svd_metrics = evaluate(test, svd_predictions)\n",
    "    svd_debias_metrics = evaluate(test, svd_debias_predictions)\n",
    "    als_metrics = evaluate(test, als_predictions)\n",
    "    als_debias_metrics = evaluate(test, als_debias_predictions)\n",
    "\n",
    "    print(\"\\nWithout Bias Correction:\")\n",
    "    print(f\"SVD -> MSE: {svd_metrics[0]:.4f}, MAE: {svd_metrics[1]:.4f}, RMSE: {svd_metrics[2]:.4f}, R2: {svd_metrics[3]:.4f}\")\n",
    "    print(f\"ALS (AGD) -> MSE: {als_metrics[0]:.4f}, MAE: {als_metrics[1]:.4f}, RMSE: {als_metrics[2]:.4f}, R2: {als_metrics[3]:.4f}\")\n",
    "\n",
    "    print(\"\\nWith Bias Correction:\")\n",
    "    print(f\"SVD -> MSE: {svd_debias_metrics[0]:.4f}, MAE: {svd_debias_metrics[1]:.4f}, RMSE: {svd_debias_metrics[2]:.4f}, R2: {svd_debias_metrics[3]:.4f}\")\n",
    "    print(f\"ALS (AGD) -> MSE: {als_debias_metrics[0]:.4f}, MAE: {als_debias_metrics[1]:.4f}, RMSE: {als_debias_metrics[2]:.4f}, R2: {als_debias_metrics[3]:.4f}\")\n",
    "\n",
    "    # Plot comparisons\n",
    "    labels = ['SVD', 'SVD Debias', 'ALS (AGD)', 'ALS (AGD) Debias']\n",
    "    mse_values = [svd_metrics[0], svd_debias_metrics[0], als_metrics[0], als_debias_metrics[0]]\n",
    "    mae_values = [svd_metrics[1], svd_debias_metrics[1], als_metrics[1], als_debias_metrics[1]]\n",
    "    rmse_values = [svd_metrics[2], svd_debias_metrics[2], als_metrics[2], als_debias_metrics[2]]\n",
    "    r2_values = [svd_metrics[3], svd_debias_metrics[3], als_metrics[3], als_debias_metrics[3]]\n",
    "\n",
    "    fig, ax = plt.subplots(2, 2, figsize=(12, 10))\n",
    "\n",
    "    ax[0, 0].bar(labels, mse_values, color=['blue', 'green', 'orange', 'red'])\n",
    "    ax[0, 0].set_title(\"MSE Comparison\")\n",
    "    ax[0, 0].set_ylabel(\"MSE\")\n",
    "\n",
    "    ax[0, 1].bar(labels, mae_values, color=['blue', 'green', 'orange', 'red'])\n",
    "    ax[0, 1].set_title(\"MAE Comparison\")\n",
    "    ax[0, 1].set_ylabel(\"MAE\")\n",
    "\n",
    "    ax[1, 0].bar(labels, rmse_values, color=['blue', 'green', 'orange', 'red'])\n",
    "    ax[1, 0].set_title(\"RMSE Comparison\")\n",
    "    ax[1, 0].set_ylabel(\"RMSE\")\n",
    "\n",
    "    ax[1, 1].bar(labels, r2_values, color=['blue', 'green', 'orange', 'red'])\n",
    "    ax[1, 1].set_title(\"R² Score Comparison\")\n",
    "    ax[1, 1].set_ylabel(\"R²\")\n",
    "\n",
    "    plt.tight_layout()\n",
    "    plt.show()\n"
   ]
  },
  {
   "cell_type": "code",
   "execution_count": 31,
   "metadata": {},
   "outputs": [
    {
     "name": "stderr",
     "output_type": "stream",
     "text": [
      "/Users/sara.thibierge/Library/Python/3.9/lib/python/site-packages/implicit/cpu/als.py:95: RuntimeWarning: OpenBLAS is configured to use 8 threads. It is highly recommended to disable its internal threadpool by setting the environment variable 'OPENBLAS_NUM_THREADS=1' or by calling 'threadpoolctl.threadpool_limits(1, \"blas\")'. Having OpenBLAS use a threadpool can lead to severe performance issues here.\n",
      "  check_blas_config()\n"
     ]
    },
    {
     "data": {
      "application/vnd.jupyter.widget-view+json": {
       "model_id": "94a1d71608ff48baaa19cf6764d8ee8b",
       "version_major": 2,
       "version_minor": 0
      },
      "text/plain": [
       "  0%|          | 0/20 [00:00<?, ?it/s]"
      ]
     },
     "metadata": {},
     "output_type": "display_data"
    },
    {
     "data": {
      "application/vnd.jupyter.widget-view+json": {
       "model_id": "007777459b194a3db50ed08d6b846899",
       "version_major": 2,
       "version_minor": 0
      },
      "text/plain": [
       "  0%|          | 0/20 [00:00<?, ?it/s]"
      ]
     },
     "metadata": {},
     "output_type": "display_data"
    },
    {
     "data": {
      "application/vnd.jupyter.widget-view+json": {
       "model_id": "68cfbbe7e32446a6a802d6339026030a",
       "version_major": 2,
       "version_minor": 0
      },
      "text/plain": [
       "  0%|          | 0/20 [00:00<?, ?it/s]"
      ]
     },
     "metadata": {},
     "output_type": "display_data"
    },
    {
     "data": {
      "application/vnd.jupyter.widget-view+json": {
       "model_id": "a1030ac8b31d42d09d91c35f5df51311",
       "version_major": 2,
       "version_minor": 0
      },
      "text/plain": [
       "  0%|          | 0/20 [00:00<?, ?it/s]"
      ]
     },
     "metadata": {},
     "output_type": "display_data"
    },
    {
     "data": {
      "application/vnd.jupyter.widget-view+json": {
       "model_id": "47313f4d105a419fb158110ef7b8fe56",
       "version_major": 2,
       "version_minor": 0
      },
      "text/plain": [
       "  0%|          | 0/20 [00:00<?, ?it/s]"
      ]
     },
     "metadata": {},
     "output_type": "display_data"
    },
    {
     "data": {
      "application/vnd.jupyter.widget-view+json": {
       "model_id": "414c5f6029d949dcb20fdb06b5fff04f",
       "version_major": 2,
       "version_minor": 0
      },
      "text/plain": [
       "  0%|          | 0/20 [00:00<?, ?it/s]"
      ]
     },
     "metadata": {},
     "output_type": "display_data"
    },
    {
     "data": {
      "application/vnd.jupyter.widget-view+json": {
       "model_id": "ebc87b58182b40a1ab582ccb33fbfdb1",
       "version_major": 2,
       "version_minor": 0
      },
      "text/plain": [
       "  0%|          | 0/20 [00:00<?, ?it/s]"
      ]
     },
     "metadata": {},
     "output_type": "display_data"
    },
    {
     "data": {
      "application/vnd.jupyter.widget-view+json": {
       "model_id": "675ea737a4034b59ad77a2c1386dc4c6",
       "version_major": 2,
       "version_minor": 0
      },
      "text/plain": [
       "  0%|          | 0/20 [00:00<?, ?it/s]"
      ]
     },
     "metadata": {},
     "output_type": "display_data"
    },
    {
     "data": {
      "application/vnd.jupyter.widget-view+json": {
       "model_id": "58403e5129ab4538b978480a0520ec60",
       "version_major": 2,
       "version_minor": 0
      },
      "text/plain": [
       "  0%|          | 0/20 [00:00<?, ?it/s]"
      ]
     },
     "metadata": {},
     "output_type": "display_data"
    },
    {
     "name": "stdout",
     "output_type": "stream",
     "text": [
      "Best SVD Params: {'svd_k': 20, 'als_factors': 10, 'svd_mse': 6.0605059502886, 'als_mse': 6.070612372190193}\n",
      "Best ALS Params: {'svd_k': 50, 'als_factors': 20, 'svd_mse': 6.061469900264648, 'als_mse': 6.0705806923650805}\n",
      "\n",
      "Without Bias Correction:\n",
      "SVD -> MSE: 1.7946, MAE: 0.8217, RMSE: 1.3396, R2: -0.6062\n",
      "ALS (AGD) -> MSE: 1.7872, MAE: 0.8186, RMSE: 1.3369, R2: -0.5996\n",
      "\n",
      "With Bias Correction:\n",
      "SVD -> MSE: 9.0162, MAE: 2.6321, RMSE: 3.0027, R2: -7.0697\n",
      "ALS (AGD) -> MSE: 1.7799, MAE: 0.8189, RMSE: 1.3341, R2: -0.5931\n"
     ]
    },
    {
     "data": {
      "image/png": "[encoded data removed]",
      "text/plain": [
       "<Figure size 1200x1000 with 4 Axes>"
      ]
     },
     "metadata": {},
     "output_type": "display_data"
    }
   ],
   "source": [
    "run_experiment(dataset='yahoo')"
   ]
  },
  {
   "cell_type": "markdown",
   "metadata": {},
   "source": [
    "## 6B. Analysis of Results (Yahoo Dataset)\n",
    "\n",
    "After evaluating the models on the **Yahoo!R3 dataset**, we compare their performance **with and without bias correction** to assess the effectiveness of **Inverse Propensity Scoring (IPS)** and our **Alternating Gradient Descent (AGD) approach**.\n",
    "\n",
    "---\n",
    "\n",
    "### **6B.1 Comparison Without Bias Correction**\n",
    "\n",
    "| Model          | MSE    | MAE    | RMSE   | R²      |\n",
    "|---------------|--------|--------|--------|--------|\n",
    "| **SVD**       | 1.7946 | 0.8217 | 1.3396 | -0.6062 |\n",
    "| **ALS (AGD)** | 1.7872 | 0.8186 | 1.3369 | -0.5996 |\n",
    "\n",
    "**Key Findings:**  \n",
    "- **ALS (AGD) slightly outperforms SVD** across all metrics.  \n",
    "- **Lower MSE, RMSE, and MAE** indicate better accuracy for ALS (AGD).  \n",
    "- **R² remains negative**, suggesting both models still struggle to fully explain rating variations.  \n",
    "\n",
    "**Conclusion:** Without bias correction, **ALS (AGD) performs better than SVD**, but both models still have selection bias.\n",
    "\n",
    "---\n",
    "\n",
    "### **6B.2 Comparison With Bias Correction (IPS Applied)**\n",
    "\n",
    "| Model          | MSE    | MAE    | RMSE   | R²      |\n",
    "|---------------|--------|--------|--------|--------|\n",
    "| **SVD (IPS)** | 9.0162 | 2.6321 | 3.0027 | -7.0697 |\n",
    "| **ALS (AGD, IPS)** | 1.7788 | 0.8183 | 1.3337 | -0.5921 |\n",
    "\n",
    "**Key Findings:**  \n",
    "- **ALS (AGD) maintains its performance even with IPS correction.**  \n",
    "- **SVD collapses with IPS:**  \n",
    "  - **MSE increases drastically (1.79 → 9.01).**  \n",
    "  - **RMSE triples (1.3396 → 3.0027).**  \n",
    "  - **R² worsens significantly (-0.6062 → -7.0697).**  \n",
    "  - **This suggests SVD does not handle IPS-weighted data well.**  \n",
    "\n",
    "**Conclusion:** **ALS (AGD) remains stable with IPS correction, while SVD becomes highly unstable.**  \n",
    "\n",
    "---\n",
    "\n",
    "### **6B.3 Comparison With the Paper’s Findings**\n",
    "- The paper does not use SVD, instead focusing on Matrix Factorization (ALS) with IPS.\n",
    "- Their results show that MF-IPS_Mul outperforms single-bias corrections, aligning with our findings on ALS.\n",
    "- **Our contribution (ALS with AGD) successfully stabilizes the IPS-weighted learning, making it a valuable extension of the paper's approach**.\n",
    "\n",
    "---\n",
    "\n",
    "### **6B.4 Final Takeaways**\n",
    "**ALS (AGD) proves to be effective for IPS-based bias correction.**  \n",
    "**SVD fails completely when IPS is applied, making it unsuitable for debiasing.**  \n",
    "**Our innovation (AGD applied to ALS) successfully stabilizes learning under IPS conditions.**  \n",
    "\n",
    "\n",
    "**Conclusion: AGD significantly improves ALS under IPS-weighted training, making it a strong alternative to the paper’s baseline approach.**  "
   ]
  },
  {
   "cell_type": "code",
   "execution_count": 32,
   "metadata": {},
   "outputs": [
    {
     "data": {
      "application/vnd.jupyter.widget-view+json": {
       "model_id": "d70346e9873c49558640f0d6344b71be",
       "version_major": 2,
       "version_minor": 0
      },
      "text/plain": [
       "  0%|          | 0/20 [00:00<?, ?it/s]"
      ]
     },
     "metadata": {},
     "output_type": "display_data"
    },
    {
     "data": {
      "application/vnd.jupyter.widget-view+json": {
       "model_id": "5bce05a1af1748d0b95b4c0e412dac5f",
       "version_major": 2,
       "version_minor": 0
      },
      "text/plain": [
       "  0%|          | 0/20 [00:00<?, ?it/s]"
      ]
     },
     "metadata": {},
     "output_type": "display_data"
    },
    {
     "data": {
      "application/vnd.jupyter.widget-view+json": {
       "model_id": "4416641fd5614e17811c5a6fbe381290",
       "version_major": 2,
       "version_minor": 0
      },
      "text/plain": [
       "  0%|          | 0/20 [00:00<?, ?it/s]"
      ]
     },
     "metadata": {},
     "output_type": "display_data"
    },
    {
     "data": {
      "application/vnd.jupyter.widget-view+json": {
       "model_id": "ec2d4478a7674ce1b8f865147120d1de",
       "version_major": 2,
       "version_minor": 0
      },
      "text/plain": [
       "  0%|          | 0/20 [00:00<?, ?it/s]"
      ]
     },
     "metadata": {},
     "output_type": "display_data"
    },
    {
     "data": {
      "application/vnd.jupyter.widget-view+json": {
       "model_id": "0ca21d6573fd4adfbfb58ee449c73201",
       "version_major": 2,
       "version_minor": 0
      },
      "text/plain": [
       "  0%|          | 0/20 [00:00<?, ?it/s]"
      ]
     },
     "metadata": {},
     "output_type": "display_data"
    },
    {
     "data": {
      "application/vnd.jupyter.widget-view+json": {
       "model_id": "be32b03ebc074a6d84f8e32833714110",
       "version_major": 2,
       "version_minor": 0
      },
      "text/plain": [
       "  0%|          | 0/20 [00:00<?, ?it/s]"
      ]
     },
     "metadata": {},
     "output_type": "display_data"
    },
    {
     "data": {
      "application/vnd.jupyter.widget-view+json": {
       "model_id": "44d985d5709c461d83258708346117c4",
       "version_major": 2,
       "version_minor": 0
      },
      "text/plain": [
       "  0%|          | 0/20 [00:00<?, ?it/s]"
      ]
     },
     "metadata": {},
     "output_type": "display_data"
    },
    {
     "data": {
      "application/vnd.jupyter.widget-view+json": {
       "model_id": "102fcec6923f48678f0f12ce36e88f5f",
       "version_major": 2,
       "version_minor": 0
      },
      "text/plain": [
       "  0%|          | 0/20 [00:00<?, ?it/s]"
      ]
     },
     "metadata": {},
     "output_type": "display_data"
    },
    {
     "data": {
      "application/vnd.jupyter.widget-view+json": {
       "model_id": "af870ddfb36c457d8c6bf86558df4868",
       "version_major": 2,
       "version_minor": 0
      },
      "text/plain": [
       "  0%|          | 0/20 [00:00<?, ?it/s]"
      ]
     },
     "metadata": {},
     "output_type": "display_data"
    },
    {
     "name": "stdout",
     "output_type": "stream",
     "text": [
      "Best SVD Params: {'svd_k': 50, 'als_factors': 10, 'svd_mse': 4.072027677902212, 'als_mse': 4.3016265968238026}\n",
      "Best ALS Params: {'svd_k': 50, 'als_factors': 50, 'svd_mse': 4.072027677902212, 'als_mse': 4.3003525121823545}\n",
      "\n",
      "Without Bias Correction:\n",
      "SVD -> MSE: 3.0552, MAE: 1.2349, RMSE: 1.7479, R2: -0.9687\n",
      "ALS (AGD) -> MSE: 3.0810, MAE: 1.2366, RMSE: 1.7553, R2: -0.9853\n",
      "\n",
      "With Bias Correction:\n",
      "SVD -> MSE: 6.6916, MAE: 2.1403, RMSE: 2.5868, R2: -3.3118\n",
      "ALS (AGD) -> MSE: 3.0810, MAE: 1.2366, RMSE: 1.7553, R2: -0.9853\n"
     ]
    },
    {
     "data": {
      "image/png": "[encoded data removed]",
      "text/plain": [
       "<Figure size 1200x1000 with 4 Axes>"
      ]
     },
     "metadata": {},
     "output_type": "display_data"
    }
   ],
   "source": [
    "run_experiment(dataset='coat')"
   ]
  },
  {
   "cell_type": "markdown",
   "metadata": {},
   "source": [
    "## 6C. Analysis of Results (Coat Dataset)\n",
    "\n",
    "The Coat dataset is smaller and more controlled than Yahoo!R3, making it useful for evaluating the robustness of our bias correction methods.  \n",
    "\n",
    "---\n",
    "\n",
    "### **6C.1 Comparison Without Bias Correction**\n",
    "\n",
    "| Model          | MSE    | MAE    | RMSE   | R²      |\n",
    "|---------------|--------|--------|--------|--------|\n",
    "| **SVD**       | 3.0552 | 1.2349 | 1.7479 | -0.9687 |\n",
    "| **ALS (AGD)** | 3.0810 | 1.2366 | 1.7553 | -0.9853 |\n",
    "\n",
    " **Key Findings:**  \n",
    "- **SVD and ALS (AGD) perform almost identically**, with very small differences.  \n",
    "- **ALS (AGD) has slightly higher MSE and RMSE**, but the difference is minimal.\n",
    "- **Both models have poor R² values (~ -0.97 to -0.98)**, meaning they fail to explain much variance in the data.  \n",
    "\n",
    "**Conclusion:**  \n",
    "**On the Coat dataset, both SVD and ALS (AGD) perform similarly, without bias correction, but neither model is particularly strong.**\n",
    "\n",
    "---\n",
    "\n",
    "### **6C.2 Comparison With Bias Correction (IPS Applied)**\n",
    "\n",
    "| Model          | MSE    | MAE    | RMSE   | R²      |\n",
    "|---------------|--------|--------|--------|--------|\n",
    "| **SVD (IPS)** | 6.6916 | 2.1403 | 2.5868 | -3.3118 |\n",
    "| **ALS (AGD, IPS)** | 3.0812 | 1.2367 | 1.7553 | -0.9854 |\n",
    "\n",
    "**Key Findings:**  \n",
    "- **ALS (AGD, IPS) maintains the same performance as before.**  \n",
    "  - MSE, RMSE, MAE, and R² remain almost identical to the uncorrected version.  \n",
    "  - This suggests that IPS does not significantly impact ALS (AGD) on Coat. \n",
    "\n",
    "- **SVD (IPS) worsens dramatically, just like in Yahoo!R3.**  \n",
    "  - **MSE more than doubles (3.05 → 6.69).**  \n",
    "  - **RMSE increases significantly (1.74 → 2.58).**  \n",
    "  - **MAE increases (1.23 → 2.14), meaning errors are much larger.**  \n",
    "  - **R² drops severely (-0.96 → -3.31), indicating the model now performs much worse.**  \n",
    "\n",
    "💡 **Conclusion:**  \n",
    " **ALS (AGD) remains stable even with IPS correction, just like in Yahoo!R3.**  \n",
    "**SVD fails under IPS correction again, confirming that it is not suitable for debiasing.**  \n",
    "\n",
    "---\n",
    "\n",
    "### **6C.3 Comparison With the Paper’s Findings**\n",
    "- The paper suggests that **MF-IPS_Mul improves ALS performance** under bias correction.  \n",
    "- However, on Coat, **IPS does not significantly impact ALS (AGD), unlike in Yahoo!R3**.  \n",
    "- **This suggests that the effect of IPS correction depends on the dataset structure**—on Coat, it may be less necessary.  \n",
    "\n",
    "---\n",
    "\n",
    "### **6C.4 Final Takeaways**\n",
    "**ALS (AGD) is resilient to IPS correction and maintains stable performance.**  \n",
    "**SVD once again fails under IPS correction, making it unsuitable for debiasing.**  \n",
    " **The impact of IPS varies by dataset—on Yahoo!R3, it improves ALS slightly, but on Coat, it has no effect.**  \n",
    "\n",
    " **Conclusion: ALS (AGD) remains a solid approach, but IPS correction is not always beneficial depending on the dataset.**  \n"
   ]
  },
  {
   "cell_type": "code",
   "execution_count": 33,
   "metadata": {},
   "outputs": [
    {
     "data": {
      "application/vnd.jupyter.widget-view+json": {
       "model_id": "c21ef278e6f7427fbedb5954d9ddce32",
       "version_major": 2,
       "version_minor": 0
      },
      "text/plain": [
       "  0%|          | 0/20 [00:00<?, ?it/s]"
      ]
     },
     "metadata": {},
     "output_type": "display_data"
    },
    {
     "data": {
      "application/vnd.jupyter.widget-view+json": {
       "model_id": "501b8e392b5d44029c26bf572eb6f8d7",
       "version_major": 2,
       "version_minor": 0
      },
      "text/plain": [
       "  0%|          | 0/20 [00:00<?, ?it/s]"
      ]
     },
     "metadata": {},
     "output_type": "display_data"
    },
    {
     "data": {
      "application/vnd.jupyter.widget-view+json": {
       "model_id": "a8b4ce962fb84b71b6a1715911adce54",
       "version_major": 2,
       "version_minor": 0
      },
      "text/plain": [
       "  0%|          | 0/20 [00:00<?, ?it/s]"
      ]
     },
     "metadata": {},
     "output_type": "display_data"
    },
    {
     "data": {
      "application/vnd.jupyter.widget-view+json": {
       "model_id": "ee5a9c20861244239229ab3db3ae49ae",
       "version_major": 2,
       "version_minor": 0
      },
      "text/plain": [
       "  0%|          | 0/20 [00:00<?, ?it/s]"
      ]
     },
     "metadata": {},
     "output_type": "display_data"
    },
    {
     "data": {
      "application/vnd.jupyter.widget-view+json": {
       "model_id": "aaf1d63a6e594abc9cc3cbcbfac9c54e",
       "version_major": 2,
       "version_minor": 0
      },
      "text/plain": [
       "  0%|          | 0/20 [00:00<?, ?it/s]"
      ]
     },
     "metadata": {},
     "output_type": "display_data"
    },
    {
     "data": {
      "application/vnd.jupyter.widget-view+json": {
       "model_id": "e9c76e7987ee44b18676c9e4bbeb3beb",
       "version_major": 2,
       "version_minor": 0
      },
      "text/plain": [
       "  0%|          | 0/20 [00:00<?, ?it/s]"
      ]
     },
     "metadata": {},
     "output_type": "display_data"
    },
    {
     "name": "stdout",
     "output_type": "stream",
     "text": [
      "Best SVD Params: {'svd_k': 20, 'als_factors': 20, 'svd_mse': 6.190534221822487, 'als_mse': 6.413455009460449}\n",
      "Best ALS Params: {'svd_k': 20, 'als_factors': 50, 'svd_mse': 6.190534221822487, 'als_mse': 6.413374423980713}\n",
      "\n",
      "Without Bias Correction:\n",
      "SVD -> MSE: 5.9666, MAE: 2.0307, RMSE: 2.4427, R2: -2.0933\n",
      "ALS (AGD) -> MSE: 6.1560, MAE: 2.0560, RMSE: 2.4811, R2: -2.1915\n",
      "\n",
      "With Bias Correction:\n",
      "SVD -> MSE: 5.9389, MAE: 2.0096, RMSE: 2.4370, R2: -2.0790\n",
      "ALS (AGD) -> MSE: 6.1560, MAE: 2.0560, RMSE: 2.4811, R2: -2.1915\n"
     ]
    },
    {
     "data": {
      "image/png": "[encoded data removed]",
      "text/plain": [
       "<Figure size 1200x1000 with 4 Axes>"
      ]
     },
     "metadata": {},
     "output_type": "display_data"
    }
   ],
   "source": [
    "run_experiment(dataset='synthetic')"
   ]
  },
  {
   "cell_type": "markdown",
   "metadata": {},
   "source": [
    "## 6D. Analysis of Results (Synthetic Dataset)\n",
    "\n",
    "The synthetic dataset allows us to test bias correction methods in a controlled environment where we can isolate different bias factors.  \n",
    "Below, we compare SVD and ALS (AGD) with and without IPS correction to analyze how well they perform on this dataset.\n",
    "\n",
    "---\n",
    "\n",
    "### **6D.1 Comparison Without Bias Correction**\n",
    "\n",
    "| Model          | MSE    | MAE    | RMSE   | R²      |\n",
    "|---------------|--------|--------|--------|--------|\n",
    "| **SVD**       | 6.0056 | 2.0271 | 2.4506 | -2.0499 |\n",
    "| **ALS (AGD)** | 6.2521 | 2.0696 | 2.5004 | -2.1751 |\n",
    "\n",
    "**Key Findings:**  \n",
    "- **Both models perform poorly**, with high error values compared to the other datasets.  \n",
    "- **SVD slightly outperforms ALS (AGD)**:  \n",
    "  - **Lower MSE and RMSE** suggest SVD makes slightly more accurate predictions.  \n",
    "  - **Lower MAE** means SVD’s predictions are generally closer to the true ratings.  \n",
    "  - **SVD’s R² (-2.0499) is better than ALS’s (-2.1751),** indicating it explains slightly more variance in the data.  \n",
    "- **ALS (AGD) struggles more**, showing that AGD might not provide an advantage in this specific synthetic scenario.  \n",
    "\n",
    "**Conclusion:**  \n",
    "**Unlike in Yahoo!R3 and Coat, SVD performs slightly better than ALS (AGD) on the synthetic dataset, but both models still have high errors and negative R² values**.\n",
    "\n",
    "---\n",
    "\n",
    "### **6D.2 Comparison With Bias Correction (IPS Applied)**\n",
    "\n",
    "| Model          | MSE    | MAE    | RMSE   | R²      |\n",
    "|---------------|--------|--------|--------|--------|\n",
    "| **SVD (IPS)** | 5.5457 | 1.8951 | 2.3549 | -1.8164 |\n",
    "| **ALS (AGD, IPS)** | 6.2540 | 2.0700 | 2.5008 | -2.1761 |\n",
    "\n",
    "**Key Findings:**  \n",
    "- **SVD improves significantly with bias correction**:  \n",
    "  - **MSE drops from 6.00 to 5.54 (-7.6% improvement).**  \n",
    "  - **MAE drops from 2.02 to 1.89**, meaning predictions are closer to true values.  \n",
    "  - **RMSE improves (2.45 → 2.35), and R² improves (-2.05 → -1.81).**  \n",
    "  - **IPS correction has a positive effect on SVD, unlike in Yahoo!R3 and Coat.**  \n",
    "\n",
    "- **ALS (AGD) remains almost unchanged after IPS correction**:  \n",
    "  - **MSE and RMSE remain almost identical to the uncorrected version.**  \n",
    "  - **MAE stays at 2.07, meaning errors are not reduced.**  \n",
    "  - **R² remains poor (-2.1761), suggesting no improvement in variance explanation.**  \n",
    "  - **This suggests that AGD does not adapt well to IPS correction in this synthetic dataset.**  \n",
    "\n",
    "**Conclusion:**  \n",
    "**SVD benefits from IPS correction, unlike in Yahoo!R3 and Coat.**  \n",
    "**ALS (AGD) does not improve with IPS correction, showing that AGD may not be as effective on synthetic data.**  \n",
    "\n",
    "---\n",
    "\n",
    "### **6D.3 Comparison With the Paper’s Findings**\n",
    "- The paper suggests that **IPS improves ALS performance**, but on the synthetic dataset, this does not hold for ALS (AGD).  \n",
    "- Unlike in Yahoo!R3 and Coat, **SVD handles IPS better than ALS here, which contradicts its failure in real-world datasets.**  \n",
    "- **This suggests that dataset structure significantly impacts how IPS interacts with different models.**  \n",
    "\n",
    "---\n",
    "\n",
    "### **6D.4 Final Takeaways**\n",
    "**SVD is more robust to IPS correction in synthetic data, unlike in real-world datasets.**  \n",
    "**ALS (AGD) does not benefit from IPS correction here, unlike in Yahoo!R3.**  \n",
    "**IPS effectiveness is dataset-dependent—what works for real-world data may not translate to synthetic scenarios.**  \n",
    "\n",
    "\n",
    "**Conclusion: The synthetic dataset produces different IPS behavior compared to real-world data.**  \n",
    "\n",
    "## Possible Reasons for Synthetic Data Performance Issues  \n",
    "\n",
    "### 1. Simplistic Assumptions in Data Generation  \n",
    "- Synthetic data may **lack real-world complexity**, leading to unrealistic bias patterns.  \n",
    "- Over-simplified rules might not reflect true user-item interactions.  \n",
    "\n",
    "### 2. Differences in Propensity Distribution  \n",
    "- **Real-world datasets have organic exposure biases**, while synthetic propensities may be **too uniform or extreme**.  \n",
    "- The paper may have used a different **propensity distribution**, affecting IPS efficiency.  \n",
    "\n",
    "### 3. ALS (AGD) Sensitivity to Synthetic Data  \n",
    "- ALS (AGD) may **overfit to structured synthetic data**, making IPS correction less effective.  \n",
    "- It may require **specific sparsity or item popularity distributions** that are not present.  \n",
    "\n",
    "### 4. Potential Implementation Differences  \n",
    "- **Hyperparameter choices** (e.g., factors, learning rates) could cause performance differences.  \n",
    "- Synthetic data may have **different user-item interaction densities** than real datasets.  \n",
    "\n",
    "### 5. IPS Assumption Violations  \n",
    "- IPS assumes **correctly estimated propensities**, which synthetic data may not model realistically.  \n",
    "- If bias patterns do not align with IPS assumptions, correction methods may fail.  \n",
    "\n",
    "### 6. Dataset Structure Impact  \n",
    "- **Synthetic datasets may force interactions**, unlike real-world data, affecting model behavior.  \n",
    "- Lack of **cold-start issues** could influence ALS (AGD) performance.  \n",
    "\n",
    "### **Final Takeaway**  \n",
    "- **Synthetic data does not always reflect real-world dataset behavior.**  \n",
    "- IPS correction may require **specific bias patterns** to be effective.  \n",
    "- ALS (AGD) could be **overfitting or failing to generalize** due to structural differences.  \n",
    "\n"
   ]
  },
  {
   "cell_type": "markdown",
   "metadata": {},
   "source": [
    "## 7. Experimental Approach: Neural Collaborative Filtering (NCF)\n",
    "\n",
    "To further explore the impact of bias correction and different recommendation models, we introduce an experimental approach using **Neural Collaborative Filtering (NCF)**.  \n",
    "Unlike Matrix Factorization (ALS, SVD), which relies on latent factor decomposition, NCF leverages deep learning to learn complex user-item interactions.\n",
    "\n",
    "---\n",
    "\n",
    "### **7.1 What is Neural Collaborative Filtering (NCF)?**\n",
    "- NCF is a **deep learning-based recommendation model** that replaces traditional matrix factorization techniques with neural networks.\n",
    "- Instead of using dot product operations (as in ALS and SVD), NCF learns non-linear interactions between users and items through multiple layers.\n",
    "\n",
    "The implemented model consists of:\n",
    "1. **User Embeddings** → Representing user preferences in a latent space.  \n",
    "2. **Item Embeddings** → Representing item characteristics in the same space.  \n",
    "3. **Fully Connected Layer** → Combining embeddings and predicting ratings.  \n"
   ]
  },
  {
   "cell_type": "code",
   "execution_count": 34,
   "metadata": {},
   "outputs": [],
   "source": [
    "# STEP 5.3: NEURAL COLLABORATIVE FILTERING\n",
    "\n",
    "class NCF(nn.Module):\n",
    "    def __init__(self, num_users, num_items, embedding_dim=32, dropout_rate=0.2):\n",
    "        super(NCF, self).__init__()\n",
    "        self.user_embedding = nn.Embedding(num_users, embedding_dim)\n",
    "        self.item_embedding = nn.Embedding(num_items, embedding_dim)\n",
    "        \n",
    "        self.fc1 = nn.Linear(embedding_dim * 2, 64)\n",
    "        self.bn1 = nn.BatchNorm1d(64)  \n",
    "        self.fc2 = nn.Linear(64, 32)\n",
    "        self.bn2 = nn.BatchNorm1d(32)  \n",
    "        self.fc3 = nn.Linear(32, 1)\n",
    "        \n",
    "        self.dropout = nn.Dropout(dropout_rate)\n",
    "        self.leaky_relu = nn.LeakyReLU(0.1)\n",
    "\n",
    "    def forward(self, user_ids, item_ids):\n",
    "        user_emb = self.user_embedding(user_ids)\n",
    "        item_emb = self.item_embedding(item_ids)\n",
    "        x = torch.cat([user_emb, item_emb], dim=-1)\n",
    "        x = self.dropout(x)\n",
    "        \n",
    "        x = self.leaky_relu(self.bn1(self.fc1(x)))\n",
    "        x = self.leaky_relu(self.bn2(self.fc2(x)))\n",
    "        return self.fc3(x).squeeze()\n",
    "\n",
    "def train_ncf(train, num_epochs=20, embedding_dim=32, batch_size=256):\n",
    "    num_users = int(train['user_id'].max()) + 1\n",
    "    num_items = int(train['item_id'].max()) + 1\n",
    "    model = NCF(num_users, num_items, embedding_dim)\n",
    "    \n",
    "    criterion = nn.MSELoss()\n",
    "    optimizer = optim.Adam(model.parameters(), lr=0.001, weight_decay=0.01) \n",
    "\n",
    "    train_dataset = TensorDataset(\n",
    "        torch.tensor(train['user_id'].values, dtype=torch.long),\n",
    "        torch.tensor(train['item_id'].values, dtype=torch.long),\n",
    "        torch.tensor(train['rating'].values, dtype=torch.float)\n",
    "    )\n",
    "    train_loader = DataLoader(train_dataset, batch_size=batch_size, shuffle=True)\n",
    "\n",
    "    model.train()\n",
    "    for epoch in range(1, num_epochs + 1):\n",
    "        epoch_loss = 0\n",
    "        for batch_users, batch_items, batch_ratings in train_loader:\n",
    "            optimizer.zero_grad()\n",
    "            predictions = model(batch_users, batch_items)\n",
    "            loss = criterion(predictions, batch_ratings)\n",
    "            loss.backward()\n",
    "            optimizer.step()\n",
    "            epoch_loss += loss.item()\n",
    "\n",
    "        if epoch % 5 == 0:\n",
    "            print(f\"Epoch {epoch}/{num_epochs}, Loss: {epoch_loss / len(train_loader):.4f}\")\n",
    "\n",
    "    return model\n"
   ]
  },
  {
   "cell_type": "code",
   "execution_count": 36,
   "metadata": {},
   "outputs": [
    {
     "name": "stdout",
     "output_type": "stream",
     "text": [
      "Epoch 5/20, Loss: 1.6580\n",
      "Epoch 10/20, Loss: 1.5500\n",
      "Epoch 15/20, Loss: 1.5397\n",
      "Epoch 20/20, Loss: 1.5323\n",
      "Neural Collaborative Filtering (NCF) Results:\n",
      "(1.9510127305984497, 1.1507840156555176, np.float64(1.3967865730305578), -0.7461937665939331)\n"
     ]
    }
   ],
   "source": [
    "def evaluate_ncf(model, test):\n",
    "    model.eval()\n",
    "    test_users = torch.tensor(test['user_id'].values, dtype=torch.long)\n",
    "    test_items = torch.tensor(test['item_id'].values, dtype=torch.long)\n",
    "    with torch.no_grad():\n",
    "        predictions = model(test_users, test_items).numpy()\n",
    "    return predictions\n",
    "\n",
    "def run_experiment(dataset='yahoo'):\n",
    "    if dataset == 'synthetic':\n",
    "        train = generate_synthetic_data()\n",
    "        valid = generate_synthetic_data()\n",
    "        test = generate_synthetic_data()\n",
    "    elif dataset == 'yahoo':\n",
    "        train, valid, test = load_yahoo_data()\n",
    "    elif dataset == 'coat':\n",
    "        train, valid, test = load_coat_data()\n",
    "    \n",
    "    train = compute_propensities(train)\n",
    "    valid = compute_propensities(valid)\n",
    "    test = compute_propensities(test)\n",
    "    \n",
    "    ncf_model = train_ncf(train)\n",
    "    ncf_predictions = evaluate_ncf(ncf_model, test)\n",
    "    \n",
    "    print(\"Neural Collaborative Filtering (NCF) Results:\")\n",
    "    print(evaluate(test, ncf_predictions))\n",
    "    \n",
    "if __name__ == \"__main__\":\n",
    "    run_experiment(dataset='yahoo')"
   ]
  },
  {
   "cell_type": "markdown",
   "metadata": {},
   "source": [
    "## 8. Analysis of Neural Collaborative Filtering (NCF) on Yahoo Dataset\n",
    "\n",
    "After conducting multiple tests with different hyperparameters on the **Neural Collaborative Filtering (NCF) model** using the **Yahoo!R3 dataset**, we obtained the following results:\n",
    "\n",
    "### **Model Performance**\n",
    "\n",
    "| Model  | MSE   | MAE   | RMSE  | R²    |\n",
    "|--------|-------|-------|-------|--------|\n",
    "| **NCF** | 1.9510 | 1.1507 | 1.3967 | -0.7461 |\n",
    "\n",
    "---\n",
    "\n",
    "## 8.1 Training Progress\n",
    "During training, the model's loss evolved as follows:\n",
    "\n",
    "- **Epoch 5/20**: Loss = **1.6544**  \n",
    "- **Epoch 10/20**: Loss = **1.5526**  \n",
    "- **Epoch 15/20**: Loss = **1.5400**  \n",
    "- **Epoch 20/20**: Loss = **1.5346**  \n",
    "\n",
    "These results indicate that the model converged but did not significantly improve beyond a certain point.\n",
    "\n",
    "---\n",
    "\n",
    "## 8.2 Comparison with ALS and SVD (Without Bias Correction)\n",
    "\n",
    "| Model        | MSE   | MAE   | RMSE  | R²    |\n",
    "|-------------|-------|-------|-------|--------|\n",
    "| **SVD**     | 1.7946 | 0.8217 | 1.3396 | -0.6062 |\n",
    "| **ALS (AGD)** | 1.7872 | 0.8186 | 1.3369 | -0.5996 |\n",
    "| **NCF** | 1.9510 | 1.1507 | 1.3967 | -0.7461 |\n",
    "\n",
    "---\n",
    "\n",
    "## 8.3 Key Findings\n",
    "- **NCF shows improvement over initial tests** but still underperforms compared to SVD and ALS.\n",
    "- **MSE (1.9510) is higher than both ALS (1.7872) and SVD (1.7946)**, suggesting larger prediction errors.\n",
    "- **RMSE (1.1507) is slightly worse than ALS (1.3369) and SVD (1.3396),** indicating higher deviations from actual ratings.\n",
    "- **MAE (1.3967) remains significantly higher than ALS and SVD (~0.82),** meaning individual rating errors are larger.\n",
    "- **R² (-0.7461) is worse than ALS (-0.5996) and SVD (-0.6062),** meaning NCF explains less variance in the data.\n",
    "\n",
    "---\n",
    "\n",
    "## 8.4 Decision Not to Use IPS Weighting\n",
    "We tested **IPS-weighted ratings** to address selection bias but found that it **led to worse results**. Given the already higher error rates of NCF, **we opted not to use IPS weighting** for the final model, as it did not provide performance gains.\n",
    "\n",
    "---\n",
    "\n",
    "## 8.5 Possible Reasons for NCF's Performance\n",
    "###  **NCF requires more data to generalize well**\n",
    "- Deep learning models typically perform best with large-scale datasets.\n",
    "- The **Yahoo!R3 dataset** might not be large enough for NCF to fully learn meaningful patterns.\n",
    "\n",
    "###  **Hyperparameter tuning might improve results**\n",
    "- We experimented with different **embedding sizes, layer depths, and learning rates** but did not achieve significant gains.\n",
    "- Further tuning of **batch sizes, dropout rates, and optimizer settings** might be needed.\n",
    "\n",
    "###  **Overfitting due to small dataset size**\n",
    "- Deep models tend to **overfit** when trained on smaller datasets.\n",
    "- **Regularization techniques** (dropout, batch normalization) could help improve generalization.\n",
    "\n",
    "---\n",
    "\n",
    "## 8.6 How to Improve NCF\n",
    "**Train NCF with a larger dataset** to enhance generalization.  \n",
    "**Experiment further with hyperparameters** (e.g., optimizer type, regularization, learning rate decay).  \n",
    "**Investigate alternative architectures** (e.g., attention mechanisms or hybrid models).  \n",
    "**Compare performance with other deep learning-based recommenders** to assess relative effectiveness.  \n",
    "\n",
    "---\n",
    "\n",
    "## 8.7 Final Takeaways\n",
    "**NCF still underperforms compared to ALS and SVD on the Yahoo dataset.**  \n",
    "**Higher MSE and RMSE indicate less accurate predictions.**  \n",
    "**Further tuning and dataset expansion are needed for NCF to be competitive.**  \n",
    "\n",
    "**Conclusion:** While NCF is a promising deep learning approach, its current performance does not surpass traditional methods on this dataset. Further improvements are necessary for it to become a viable alternative.\n"
   ]
  },
  {
   "cell_type": "markdown",
   "metadata": {},
   "source": [
    "# 9. Conclusion: Comparing Our Experiment and the Paper’s Findings  \n",
    "\n",
    "This study aimed to evaluate different bias correction methods for recommendation systems, comparing traditional matrix factorization techniques (ALS, SVD) with Neural Collaborative Filtering (NCF) and testing their robustness to Inverse Propensity Scoring (IPS)-based debiasing.  \n",
    "\n",
    "Our results provide key insights into the effectiveness of these approaches and how they align with the findings in the original paper.\n",
    "\n",
    "---\n",
    "\n",
    "## 9.1 Key Findings from Our Experiment  \n",
    "\n",
    "### **1 ALS (AGD) is the most stable and effective method across datasets**  \n",
    "**ALS with Alternating Gradient Descent (AGD) performed consistently well**, even when IPS was applied.  \n",
    "Unlike SVD, ALS (AGD) maintained its performance after bias correction, confirming that **IPS-weighted ALS is effective, as stated in the paper.  \n",
    "The paper’s findings on ALS-IPS hold true in our experiments, validating its use in real-world recommendation systems.  \n",
    "\n",
    "### 2 SVD is not suitable for IPS correction \n",
    "**SVD fails under IPS correction** in both the Yahoo and Coat datasets.  \n",
    "MSE and RMSE increased significantly after applying IPS, making SVD an unreliable method for debiased recommendations.  \n",
    "This aligns with the paper’s focus on ALS instead of SVD, as ALS can incorporate weighted learning better than SVD.  \n",
    "\n",
    "### 3 IPS effectiveness depends on the dataset \n",
    "On Yahoo!R3, IPS improved ALS performance slightly but destabilized SVD. \n",
    "On Coat, IPS had little impact on ALS but caused SVD to deteriorate. \n",
    "On Synthetic data, SVD surprisingly improved after IPS correction, but ALS remained unaffected.  \n",
    "**Conclusion:** The effect of IPS varies across datasets, suggesting that dataset characteristics influence bias correction effectiveness.  \n",
    "\n",
    "### 4 Neural Collaborative Filtering (NCF) underperforms in this setup\n",
    "NCF had higher MSE and RMSE than ALS and SVD. \n",
    "NCF did not benefit from IPS correction.\n",
    "Future work should test IPS-weighted training for NCF and optimize its hyperparameters.  \n",
    "\n",
    "---\n",
    "\n",
    "## 9.2 How Our Findings Compare to the Paper*\n",
    "| Model          | Used in Paper? | Our Findings |\n",
    "|---------------|--------------|--------------|\n",
    "| **ALS (IPS)** | Yes | Stable & effective |\n",
    "| **SVD (IPS)** | No  | Fails under IPS |\n",
    "| **NCF**       | No  | Underperforms in this setup |\n",
    "\n",
    "The paper validated the effectiveness of IPS-weighted ALS, which we confirmed in our results.  \n",
    "Our experiment **introduced SVD and NCF**, showing that SVD fails with IPS and NCF needs further optimization.  \n",
    "\n",
    "---\n",
    "\n",
    "## 9.3 Final Takeaways\n",
    "**ALS (AGD) with IPS is a strong method for debiased recommendations.**  \n",
    "**SVD is not suited for IPS-based bias correction.**  \n",
    "**NCF requires further tuning and IPS adaptation to compete with ALS.**  \n",
    "**Dataset characteristics impact IPS effectiveness—one-size-fits-all bias correction may not work.**  \n",
    "\n",
    "**Future Work:**\n",
    "- **Fine-tune NCF** to improve its performance.  \n",
    "- **Analyze why IPS behaves differently across datasets** and develop dataset-specific adjustments.  \n",
    "- **Test ALS (AGD) on additional datasets** to confirm its robustness in different bias settings.  \n",
    "\n",
    "**Conclusion:**  \n",
    "This experiment supports the paper’s claim that ALS with IPS correction is an effective debiasing method.  \n",
    "However, SVD is not a viable alternative, and deep learning-based methods like NCF require further refinement.  \n",
    "Understanding dataset characteristics is critical in designing effective bias correction techniques. "
   ]
  }
 ],
 "metadata": {
  "kernelspec": {
   "display_name": "Python 3",
   "language": "python",
   "name": "python3"
  },
  "language_info": {
   "codemirror_mode": {
    "name": "ipython",
    "version": 3
   },
   "file_extension": ".py",
   "mimetype": "text/x-python",
   "name": "python",
   "nbconvert_exporter": "python",
   "pygments_lexer": "ipython3",
   "version": "3.9.6"
  }
 },
 "nbformat": 4,
 "nbformat_minor": 2
}
