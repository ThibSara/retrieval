{
 "cells": [
  {
   "cell_type": "code",
   "execution_count": 10,
   "metadata": {},
   "outputs": [],
   "source": [
    "import numpy as np\n",
    "import pandas as pd\n",
    "import torch\n",
    "import torch.nn as nn\n",
    "import torch.optim as optim\n",
    "from sklearn.metrics import mean_squared_error, mean_absolute_error, r2_score\n",
    "import matplotlib.pyplot as plt\n",
    "from scipy.sparse import csr_matrix\n",
    "from scipy.sparse.linalg import svds\n",
    "from implicit.als import AlternatingLeastSquares"
   ]
  },
  {
   "cell_type": "code",
   "execution_count": 11,
   "metadata": {},
   "outputs": [],
   "source": [
    "# STEP 1A: LOAD YAHOO & COAT DATASET\n",
    "\n",
    "\n",
    "def load_yahoo_data():\n",
    "    \"\"\"\n",
    "    Load Yahoo! R3 dataset from predefined train, validation, and test files.\n",
    "    \"\"\"\n",
    "\n",
    "    train = pd.read_csv(\"./yahoo/trainset.csv\")\n",
    "    valid = pd.read_csv(\"./yahoo/validset.csv\")\n",
    "    test = pd.read_csv(\"./yahoo/testset.csv\")\n",
    "    train = train[['user_id', 'item_id', 'rating']]\n",
    "    valid = valid[['user_id', 'item_id', 'rating']]\n",
    "    test = test[['user_id', 'item_id', 'rating']]\n",
    "\n",
    "    train.columns = valid.columns = test.columns = ['user_id', 'item_id', 'rating']\n",
    "    return train, valid, test\n",
    "\n",
    "\n",
    "def load_coat_data():\n",
    "    \"\"\"\n",
    "    Load Coat dataset from predefined train, validation, and test files.\n",
    "    \"\"\"\n",
    "    train = pd.read_csv(\"./coat/trainset.csv\")\n",
    "    valid = pd.read_csv(\"./coat/validset.csv\")\n",
    "    test = pd.read_csv(\"./coat/testset.csv\")\n",
    "    train.columns = valid.columns = test.columns = ['user_id', 'item_id', 'rating']\n",
    "    return train, valid, test\n"
   ]
  },
  {
   "cell_type": "code",
   "execution_count": 12,
   "metadata": {},
   "outputs": [],
   "source": [
    "# STEP 1B: SYNTHETIC DATASET GENERATION\n",
    "\n",
    "def generate_synthetic_data(num_users=100, num_items=50, num_ratings=500):\n",
    "    user_ids = np.random.randint(1, num_users + 1, num_ratings)\n",
    "    item_ids = np.random.randint(1, num_items + 1, num_ratings)\n",
    "    ratings = np.random.randint(1, 6, num_ratings)\n",
    "    return pd.DataFrame({'user_id': user_ids, 'item_id': item_ids, 'rating': ratings})"
   ]
  },
  {
   "cell_type": "code",
   "execution_count": 13,
   "metadata": {},
   "outputs": [],
   "source": [
    "# STEP 2: PROPENSITY SCORE COMPUTATION\n",
    "\n",
    "def compute_propensities(df):\n",
    "    item_popularity = df['item_id'].value_counts(normalize=True)\n",
    "    rating_distribution = df['rating'].value_counts(normalize=True)\n",
    "    df['popularity_propensity'] = df['item_id'].map(lambda x: item_popularity.get(x, 0.01))\n",
    "    df['positivity_propensity'] = df['rating'].map(lambda x: rating_distribution.get(x, 0.01))\n",
    "    df['multifactorial_propensity'] = df['popularity_propensity'] * df['positivity_propensity']\n",
    "    df['ips_weight'] = 1 / (df['multifactorial_propensity'] + 1e-6)\n",
    "    df['weighted_rating'] = df['rating'] * df['ips_weight']\n",
    "    return df"
   ]
  },
  {
   "cell_type": "code",
   "execution_count": 14,
   "metadata": {},
   "outputs": [],
   "source": [
    "# STEP 3A: MATRIX FACTORIZATION WITH SVD & ALS\n",
    "\n",
    "def baseline_recommender(train, test):\n",
    "    item_means = train.groupby('item_id')['rating'].mean()\n",
    "    return test['item_id'].map(lambda x: item_means.get(x, 3))\n",
    "\n",
    "def svd_recommender(train, test, k=20, debias=False):\n",
    "    column = 'weighted_rating' if debias else 'rating'\n",
    "    user_means = train.groupby('user_id')[column].mean()\n",
    "    train['rating_normalized'] = train.apply(lambda x: x[column] - user_means.get(x['user_id'], 3), axis=1)\n",
    "    user_item_matrix = train.pivot_table(index='user_id', columns='item_id', values=column, aggfunc='mean', fill_value=0)\n",
    "    sparse_matrix = csr_matrix(user_item_matrix)\n",
    "    U, sigma, Vt = svds(sparse_matrix, k=k)\n",
    "    sigma = np.diag(sigma)\n",
    "    predicted_ratings = np.dot(np.dot(U, sigma), Vt)\n",
    "    \n",
    "    predictions = []\n",
    "    num_users, num_items = predicted_ratings.shape\n",
    "    \n",
    "    for _, row in test.iterrows():\n",
    "        user_idx = min(max(int(row['user_id']) - 1, 0), num_users - 1)\n",
    "        item_idx = min(max(int(row['item_id']) - 1, 0), num_items - 1)\n",
    "        predictions.append(predicted_ratings[user_idx, item_idx])\n",
    "    \n",
    "    return np.clip(predictions, 1, 5)\n",
    "\n",
    "def als_recommender(train, test, factors=20, debias=False):\n",
    "    column = 'weighted_rating' if debias else 'rating'\n",
    "    user_item_matrix = csr_matrix(train.pivot_table(index='user_id', columns='item_id', values=column, aggfunc='mean', fill_value=0))\n",
    "    model = AlternatingLeastSquares(factors=factors, iterations=20)\n",
    "    model.fit(user_item_matrix)\n",
    "    \n",
    "    predictions = []\n",
    "    num_users, num_items = user_item_matrix.shape\n",
    "    \n",
    "    for _, row in test.iterrows():\n",
    "        user_idx = min(max(int(row['user_id']) - 1, 0), num_users - 1)\n",
    "        item_idx = min(max(int(row['item_id']) - 1, 0), num_items - 1)\n",
    "        predictions.append(model.user_factors[user_idx] @ model.item_factors[item_idx].T)\n",
    "    \n",
    "    return np.clip(predictions, 1, 5)"
   ]
  },
  {
   "cell_type": "code",
   "execution_count": 15,
   "metadata": {},
   "outputs": [],
   "source": [
    "# Neural Collaborative Filtering (NCF)\n",
    "class NCF(nn.Module):\n",
    "    def __init__(self, num_users, num_items, embedding_dim=20):\n",
    "        super(NCF, self).__init__()\n",
    "        self.user_embedding = nn.Embedding(num_users, embedding_dim)\n",
    "        self.item_embedding = nn.Embedding(num_items, embedding_dim)\n",
    "        self.fc = nn.Linear(embedding_dim * 2, 1)\n",
    "\n",
    "    def forward(self, user_ids, item_ids):\n",
    "        user_emb = self.user_embedding(user_ids)\n",
    "        item_emb = self.item_embedding(item_ids)\n",
    "        x = torch.cat([user_emb, item_emb], dim=-1)\n",
    "        return self.fc(x).squeeze()\n",
    "\n",
    "\n",
    "def train_ncf(train, valid, num_epochs=10, embedding_dim=20):\n",
    "    num_users = int(train['user_id'].max()) + 1\n",
    "    num_items = int(train['item_id'].max()) + 1\n",
    "    model = NCF(num_users, num_items, embedding_dim)\n",
    "    criterion = nn.MSELoss()\n",
    "    optimizer = optim.Adam(model.parameters(), lr=0.001)\n",
    "    \n",
    "    train_users = torch.tensor(train['user_id'].values, dtype=torch.long)\n",
    "    train_items = torch.tensor(train['item_id'].values, dtype=torch.long)\n",
    "    train_ratings = torch.tensor(train['rating'].values, dtype=torch.float)\n",
    "    \n",
    "    for epoch in range(num_epochs):\n",
    "        model.train()\n",
    "        optimizer.zero_grad()\n",
    "        predictions = model(train_users, train_items)\n",
    "        loss = criterion(predictions, train_ratings)\n",
    "        loss.backward()\n",
    "        optimizer.step()\n",
    "        \n",
    "    return model"
   ]
  },
  {
   "cell_type": "code",
   "execution_count": 16,
   "metadata": {},
   "outputs": [],
   "source": [
    "# STEP 4: EVALUATION\n",
    "\n",
    "def evaluate(test, predictions):\n",
    "    mse = mean_squared_error(test['rating'], predictions)\n",
    "    mae = mean_absolute_error(test['rating'], predictions)\n",
    "    rmse = np.sqrt(mse)\n",
    "    r2 = r2_score(test['rating'], predictions)\n",
    "    return mse, mae, rmse, r2\n"
   ]
  },
  {
   "cell_type": "code",
   "execution_count": 26,
   "id": "86e98b7b",
   "metadata": {},
   "outputs": [],
   "source": [
    "from itertools import product\n",
    "\n",
    "def grid_search(train, valid, test):\n",
    "    param_grid = {\n",
    "        \"svd_k\": [10, 20, 50],\n",
    "        \"als_factors\": [10, 20, 50]\n",
    "    }\n",
    "\n",
    "    results = []\n",
    "    \n",
    "    for svd_k, als_factors in product(param_grid[\"svd_k\"], param_grid[\"als_factors\"]):\n",
    "        svd_predictions = svd_recommender(train, valid, k=svd_k)\n",
    "        svd_mse, _, _, _ = evaluate(valid, svd_predictions)\n",
    "        \n",
    "        als_predictions = als_recommender(train, valid, factors=als_factors)\n",
    "        als_mse, _, _, _ = evaluate(valid, als_predictions)\n",
    "        \n",
    "        results.append({\n",
    "            \"svd_k\": svd_k,\n",
    "            \"als_factors\": als_factors,\n",
    "            \"svd_mse\": svd_mse,\n",
    "            \"als_mse\": als_mse\n",
    "        })\n",
    "    \n",
    "    best_svd = min(results, key=lambda x: x[\"svd_mse\"])\n",
    "    best_als = min(results, key=lambda x: x[\"als_mse\"])\n",
    "    \n",
    "    print(\"Best SVD Params:\", best_svd)\n",
    "    print(\"Best ALS Params:\", best_als)\n",
    "    \n",
    "    return best_svd, best_als\n"
   ]
  },
  {
   "cell_type": "code",
   "execution_count": 30,
   "metadata": {},
   "outputs": [
    {
     "name": "stdout",
     "output_type": "stream",
     "text": [
      "\n",
      "Running Yahoo Dataset Experiment:\n"
     ]
    },
    {
     "data": {
      "application/vnd.jupyter.widget-view+json": {
       "model_id": "3719ee353054491baac0fc916e6050db",
       "version_major": 2,
       "version_minor": 0
      },
      "text/plain": [
       "  0%|          | 0/20 [00:00<?, ?it/s]"
      ]
     },
     "metadata": {},
     "output_type": "display_data"
    },
    {
     "data": {
      "application/vnd.jupyter.widget-view+json": {
       "model_id": "034a55e22319493cad6994b73be031b8",
       "version_major": 2,
       "version_minor": 0
      },
      "text/plain": [
       "  0%|          | 0/20 [00:00<?, ?it/s]"
      ]
     },
     "metadata": {},
     "output_type": "display_data"
    },
    {
     "data": {
      "application/vnd.jupyter.widget-view+json": {
       "model_id": "78fef133aad849639cad2282bd28c159",
       "version_major": 2,
       "version_minor": 0
      },
      "text/plain": [
       "  0%|          | 0/20 [00:00<?, ?it/s]"
      ]
     },
     "metadata": {},
     "output_type": "display_data"
    },
    {
     "data": {
      "application/vnd.jupyter.widget-view+json": {
       "model_id": "d31b878a1de548a8a7d290c3f47b5b89",
       "version_major": 2,
       "version_minor": 0
      },
      "text/plain": [
       "  0%|          | 0/20 [00:00<?, ?it/s]"
      ]
     },
     "metadata": {},
     "output_type": "display_data"
    },
    {
     "data": {
      "application/vnd.jupyter.widget-view+json": {
       "model_id": "2cb318687a8942898fe858b8a5f7284a",
       "version_major": 2,
       "version_minor": 0
      },
      "text/plain": [
       "  0%|          | 0/20 [00:00<?, ?it/s]"
      ]
     },
     "metadata": {},
     "output_type": "display_data"
    },
    {
     "data": {
      "application/vnd.jupyter.widget-view+json": {
       "model_id": "0f7e18ebe09941d3bdf16a168657fe8a",
       "version_major": 2,
       "version_minor": 0
      },
      "text/plain": [
       "  0%|          | 0/20 [00:00<?, ?it/s]"
      ]
     },
     "metadata": {},
     "output_type": "display_data"
    },
    {
     "data": {
      "application/vnd.jupyter.widget-view+json": {
       "model_id": "a331d0443f20429e950efff4ff8143ab",
       "version_major": 2,
       "version_minor": 0
      },
      "text/plain": [
       "  0%|          | 0/20 [00:00<?, ?it/s]"
      ]
     },
     "metadata": {},
     "output_type": "display_data"
    },
    {
     "data": {
      "application/vnd.jupyter.widget-view+json": {
       "model_id": "656344768a664ddca7a312219c2633c9",
       "version_major": 2,
       "version_minor": 0
      },
      "text/plain": [
       "  0%|          | 0/20 [00:00<?, ?it/s]"
      ]
     },
     "metadata": {},
     "output_type": "display_data"
    },
    {
     "data": {
      "application/vnd.jupyter.widget-view+json": {
       "model_id": "9b741058c30f423e810b8388884ee6c2",
       "version_major": 2,
       "version_minor": 0
      },
      "text/plain": [
       "  0%|          | 0/20 [00:00<?, ?it/s]"
      ]
     },
     "metadata": {},
     "output_type": "display_data"
    },
    {
     "name": "stdout",
     "output_type": "stream",
     "text": [
      "Best SVD Params: {'svd_k': 20, 'als_factors': 10, 'svd_mse': 6.0605059502886, 'als_mse': 6.070630559963064}\n",
      "Best ALS Params: {'svd_k': 20, 'als_factors': 20, 'svd_mse': 6.0605059502886, 'als_mse': 6.070538293588418}\n",
      "Best SVD: {'svd_k': 20, 'als_factors': 10, 'svd_mse': 6.0605059502886, 'als_mse': 6.070630559963064}, Best ALS: {'svd_k': 20, 'als_factors': 20, 'svd_mse': 6.0605059502886, 'als_mse': 6.070538293588418}\n"
     ]
    },
    {
     "data": {
      "application/vnd.jupyter.widget-view+json": {
       "model_id": "0ea1e5bac03441e59528dbab1a9fcf75",
       "version_major": 2,
       "version_minor": 0
      },
      "text/plain": [
       "  0%|          | 0/20 [00:00<?, ?it/s]"
      ]
     },
     "metadata": {},
     "output_type": "display_data"
    },
    {
     "data": {
      "application/vnd.jupyter.widget-view+json": {
       "model_id": "4dd08c2517fb4d32963f461d95244187",
       "version_major": 2,
       "version_minor": 0
      },
      "text/plain": [
       "  0%|          | 0/20 [00:00<?, ?it/s]"
      ]
     },
     "metadata": {},
     "output_type": "display_data"
    },
    {
     "name": "stdout",
     "output_type": "stream",
     "text": [
      "\n",
      "Without Bias Correction:\n",
      "SVD -> MSE: 1.7946, MAE: 0.8217, RMSE: 1.3396, R2: -0.6062\n",
      "ALS -> MSE: 1.7872, MAE: 0.8186, RMSE: 1.3369, R2: -0.5996\n",
      "\n",
      "With Bias Correction:\n",
      "SVD -> MSE: 9.0162, MAE: 2.6321, RMSE: 3.0027, R2: -7.0697\n",
      "ALS -> MSE: 1.7786, MAE: 0.8187, RMSE: 1.3337, R2: -0.5919\n"
     ]
    },
    {
     "data": {
      "image/png": "[encoded data removed]",
      "text/plain": [
       "<Figure size 1200x1000 with 4 Axes>"
      ]
     },
     "metadata": {},
     "output_type": "display_data"
    },
    {
     "name": "stdout",
     "output_type": "stream",
     "text": [
      "\n",
      "Running Coat Dataset Experiment:\n"
     ]
    },
    {
     "data": {
      "application/vnd.jupyter.widget-view+json": {
       "model_id": "0a8ca810914442dbbedc092ae19f8722",
       "version_major": 2,
       "version_minor": 0
      },
      "text/plain": [
       "  0%|          | 0/20 [00:00<?, ?it/s]"
      ]
     },
     "metadata": {},
     "output_type": "display_data"
    },
    {
     "data": {
      "application/vnd.jupyter.widget-view+json": {
       "model_id": "55501fbf6c414dcc907f2795f98530b0",
       "version_major": 2,
       "version_minor": 0
      },
      "text/plain": [
       "  0%|          | 0/20 [00:00<?, ?it/s]"
      ]
     },
     "metadata": {},
     "output_type": "display_data"
    },
    {
     "data": {
      "application/vnd.jupyter.widget-view+json": {
       "model_id": "42c19a80ab6f44079fd689c96f164d06",
       "version_major": 2,
       "version_minor": 0
      },
      "text/plain": [
       "  0%|          | 0/20 [00:00<?, ?it/s]"
      ]
     },
     "metadata": {},
     "output_type": "display_data"
    },
    {
     "data": {
      "application/vnd.jupyter.widget-view+json": {
       "model_id": "7052f5923fae47c1a6d1f4abf44ae84c",
       "version_major": 2,
       "version_minor": 0
      },
      "text/plain": [
       "  0%|          | 0/20 [00:00<?, ?it/s]"
      ]
     },
     "metadata": {},
     "output_type": "display_data"
    },
    {
     "data": {
      "application/vnd.jupyter.widget-view+json": {
       "model_id": "14fe6bc7f1ed49bab15c4b45f92233a2",
       "version_major": 2,
       "version_minor": 0
      },
      "text/plain": [
       "  0%|          | 0/20 [00:00<?, ?it/s]"
      ]
     },
     "metadata": {},
     "output_type": "display_data"
    },
    {
     "data": {
      "application/vnd.jupyter.widget-view+json": {
       "model_id": "3123931c7a5a40398348079c525a82ef",
       "version_major": 2,
       "version_minor": 0
      },
      "text/plain": [
       "  0%|          | 0/20 [00:00<?, ?it/s]"
      ]
     },
     "metadata": {},
     "output_type": "display_data"
    },
    {
     "data": {
      "application/vnd.jupyter.widget-view+json": {
       "model_id": "ae5acc16c6cc440090f2258007aa5085",
       "version_major": 2,
       "version_minor": 0
      },
      "text/plain": [
       "  0%|          | 0/20 [00:00<?, ?it/s]"
      ]
     },
     "metadata": {},
     "output_type": "display_data"
    },
    {
     "data": {
      "application/vnd.jupyter.widget-view+json": {
       "model_id": "f6ebe437f38e4b36bca921e5fe4fb11a",
       "version_major": 2,
       "version_minor": 0
      },
      "text/plain": [
       "  0%|          | 0/20 [00:00<?, ?it/s]"
      ]
     },
     "metadata": {},
     "output_type": "display_data"
    },
    {
     "data": {
      "application/vnd.jupyter.widget-view+json": {
       "model_id": "03e85e6786554166b8822314cdc2539c",
       "version_major": 2,
       "version_minor": 0
      },
      "text/plain": [
       "  0%|          | 0/20 [00:00<?, ?it/s]"
      ]
     },
     "metadata": {},
     "output_type": "display_data"
    },
    {
     "name": "stdout",
     "output_type": "stream",
     "text": [
      "Best SVD Params: {'svd_k': 50, 'als_factors': 10, 'svd_mse': 4.072027677902212, 'als_mse': 4.301268020473626}\n",
      "Best ALS Params: {'svd_k': 20, 'als_factors': 20, 'svd_mse': 4.1271840359357705, 'als_mse': 4.300483117936241}\n",
      "Best SVD: {'svd_k': 50, 'als_factors': 10, 'svd_mse': 4.072027677902212, 'als_mse': 4.301268020473626}, Best ALS: {'svd_k': 20, 'als_factors': 20, 'svd_mse': 4.1271840359357705, 'als_mse': 4.300483117936241}\n"
     ]
    },
    {
     "data": {
      "application/vnd.jupyter.widget-view+json": {
       "model_id": "d4f4ad28c24b4c7b8ef9f9cbdd127a62",
       "version_major": 2,
       "version_minor": 0
      },
      "text/plain": [
       "  0%|          | 0/20 [00:00<?, ?it/s]"
      ]
     },
     "metadata": {},
     "output_type": "display_data"
    },
    {
     "data": {
      "application/vnd.jupyter.widget-view+json": {
       "model_id": "5c7635f13acb4f9c964594195689e77f",
       "version_major": 2,
       "version_minor": 0
      },
      "text/plain": [
       "  0%|          | 0/20 [00:00<?, ?it/s]"
      ]
     },
     "metadata": {},
     "output_type": "display_data"
    },
    {
     "name": "stdout",
     "output_type": "stream",
     "text": [
      "\n",
      "Without Bias Correction:\n",
      "SVD -> MSE: 3.0552, MAE: 1.2349, RMSE: 1.7479, R2: -0.9687\n",
      "ALS -> MSE: 3.0808, MAE: 1.2365, RMSE: 1.7552, R2: -0.9852\n",
      "\n",
      "With Bias Correction:\n",
      "SVD -> MSE: 6.6916, MAE: 2.1403, RMSE: 2.5868, R2: -3.3118\n",
      "ALS -> MSE: 3.0684, MAE: 1.2351, RMSE: 1.7517, R2: -0.9772\n"
     ]
    },
    {
     "data": {
      "image/png": "[encoded data removed]",
      "text/plain": [
       "<Figure size 1200x1000 with 4 Axes>"
      ]
     },
     "metadata": {},
     "output_type": "display_data"
    },
    {
     "name": "stdout",
     "output_type": "stream",
     "text": [
      "\n",
      "Running Synthetic Dataset Experiment:\n"
     ]
    },
    {
     "data": {
      "application/vnd.jupyter.widget-view+json": {
       "model_id": "b12fd0f54bbd41e0bbd2fa9240ce5807",
       "version_major": 2,
       "version_minor": 0
      },
      "text/plain": [
       "  0%|          | 0/20 [00:00<?, ?it/s]"
      ]
     },
     "metadata": {},
     "output_type": "display_data"
    },
    {
     "data": {
      "application/vnd.jupyter.widget-view+json": {
       "model_id": "cad2cc75bb0244d3b9936054c7cb0004",
       "version_major": 2,
       "version_minor": 0
      },
      "text/plain": [
       "  0%|          | 0/20 [00:00<?, ?it/s]"
      ]
     },
     "metadata": {},
     "output_type": "display_data"
    },
    {
     "data": {
      "application/vnd.jupyter.widget-view+json": {
       "model_id": "5ca4055ca8d74217b0cda584d0901266",
       "version_major": 2,
       "version_minor": 0
      },
      "text/plain": [
       "  0%|          | 0/20 [00:00<?, ?it/s]"
      ]
     },
     "metadata": {},
     "output_type": "display_data"
    },
    {
     "data": {
      "application/vnd.jupyter.widget-view+json": {
       "model_id": "b700b40040de48daa178c71b76e0ee95",
       "version_major": 2,
       "version_minor": 0
      },
      "text/plain": [
       "  0%|          | 0/20 [00:00<?, ?it/s]"
      ]
     },
     "metadata": {},
     "output_type": "display_data"
    },
    {
     "data": {
      "application/vnd.jupyter.widget-view+json": {
       "model_id": "61610dee0f4d44c680e9f836dd451861",
       "version_major": 2,
       "version_minor": 0
      },
      "text/plain": [
       "  0%|          | 0/20 [00:00<?, ?it/s]"
      ]
     },
     "metadata": {},
     "output_type": "display_data"
    },
    {
     "data": {
      "application/vnd.jupyter.widget-view+json": {
       "model_id": "fb6c1b33c08149358ceba907b513846c",
       "version_major": 2,
       "version_minor": 0
      },
      "text/plain": [
       "  0%|          | 0/20 [00:00<?, ?it/s]"
      ]
     },
     "metadata": {},
     "output_type": "display_data"
    },
    {
     "ename": "ValueError",
     "evalue": "`k` must be an integer satisfying `0 < k < min(A.shape)`.",
     "output_type": "error",
     "traceback": [
      "\u001b[0;31m---------------------------------------------------------------------------\u001b[0m",
      "\u001b[0;31mValueError\u001b[0m                                Traceback (most recent call last)",
      "Cell \u001b[0;32mIn[30], line 79\u001b[0m\n\u001b[1;32m     76\u001b[0m run_experiment(dataset\u001b[38;5;241m=\u001b[39m\u001b[38;5;124m'\u001b[39m\u001b[38;5;124mcoat\u001b[39m\u001b[38;5;124m'\u001b[39m, use_synthetic\u001b[38;5;241m=\u001b[39m\u001b[38;5;28;01mFalse\u001b[39;00m)\n\u001b[1;32m     78\u001b[0m \u001b[38;5;28mprint\u001b[39m(\u001b[38;5;124m\"\u001b[39m\u001b[38;5;130;01m\\n\u001b[39;00m\u001b[38;5;124mRunning Synthetic Dataset Experiment:\u001b[39m\u001b[38;5;124m\"\u001b[39m)\n\u001b[0;32m---> 79\u001b[0m \u001b[43mrun_experiment\u001b[49m\u001b[43m(\u001b[49m\u001b[43mdataset\u001b[49m\u001b[38;5;241;43m=\u001b[39;49m\u001b[38;5;124;43m'\u001b[39;49m\u001b[38;5;124;43m'\u001b[39;49m\u001b[43m,\u001b[49m\u001b[43m \u001b[49m\u001b[43muse_synthetic\u001b[49m\u001b[38;5;241;43m=\u001b[39;49m\u001b[38;5;28;43;01mTrue\u001b[39;49;00m\u001b[43m)\u001b[49m\n",
      "Cell \u001b[0;32mIn[30], line 18\u001b[0m, in \u001b[0;36mrun_experiment\u001b[0;34m(dataset, use_synthetic)\u001b[0m\n\u001b[1;32m     15\u001b[0m test \u001b[38;5;241m=\u001b[39m compute_propensities(test)\n\u001b[1;32m     17\u001b[0m \u001b[38;5;66;03m# Find best hyperparameters using validation set\u001b[39;00m\n\u001b[0;32m---> 18\u001b[0m best_svd, best_als \u001b[38;5;241m=\u001b[39m \u001b[43mgrid_search\u001b[49m\u001b[43m(\u001b[49m\u001b[43mtrain\u001b[49m\u001b[43m,\u001b[49m\u001b[43m \u001b[49m\u001b[43mvalid\u001b[49m\u001b[43m,\u001b[49m\u001b[43m \u001b[49m\u001b[43mtest\u001b[49m\u001b[43m)\u001b[49m\n\u001b[1;32m     19\u001b[0m \u001b[38;5;28mprint\u001b[39m(\u001b[38;5;124mf\u001b[39m\u001b[38;5;124m\"\u001b[39m\u001b[38;5;124mBest SVD: \u001b[39m\u001b[38;5;132;01m{\u001b[39;00mbest_svd\u001b[38;5;132;01m}\u001b[39;00m\u001b[38;5;124m, Best ALS: \u001b[39m\u001b[38;5;132;01m{\u001b[39;00mbest_als\u001b[38;5;132;01m}\u001b[39;00m\u001b[38;5;124m\"\u001b[39m)\n\u001b[1;32m     21\u001b[0m \u001b[38;5;66;03m# Evaluate models using best hyperparameters\u001b[39;00m\n",
      "Cell \u001b[0;32mIn[26], line 12\u001b[0m, in \u001b[0;36mgrid_search\u001b[0;34m(train, valid, test)\u001b[0m\n\u001b[1;32m      9\u001b[0m results \u001b[38;5;241m=\u001b[39m []\n\u001b[1;32m     11\u001b[0m \u001b[38;5;28;01mfor\u001b[39;00m svd_k, als_factors \u001b[38;5;129;01min\u001b[39;00m product(param_grid[\u001b[38;5;124m\"\u001b[39m\u001b[38;5;124msvd_k\u001b[39m\u001b[38;5;124m\"\u001b[39m], param_grid[\u001b[38;5;124m\"\u001b[39m\u001b[38;5;124mals_factors\u001b[39m\u001b[38;5;124m\"\u001b[39m]):\n\u001b[0;32m---> 12\u001b[0m     svd_predictions \u001b[38;5;241m=\u001b[39m \u001b[43msvd_recommender\u001b[49m\u001b[43m(\u001b[49m\u001b[43mtrain\u001b[49m\u001b[43m,\u001b[49m\u001b[43m \u001b[49m\u001b[43mvalid\u001b[49m\u001b[43m,\u001b[49m\u001b[43m \u001b[49m\u001b[43mk\u001b[49m\u001b[38;5;241;43m=\u001b[39;49m\u001b[43msvd_k\u001b[49m\u001b[43m)\u001b[49m\n\u001b[1;32m     13\u001b[0m     svd_mse, _, _, _ \u001b[38;5;241m=\u001b[39m evaluate(valid, svd_predictions)\n\u001b[1;32m     15\u001b[0m     als_predictions \u001b[38;5;241m=\u001b[39m als_recommender(train, valid, factors\u001b[38;5;241m=\u001b[39mals_factors)\n",
      "Cell \u001b[0;32mIn[14], line 13\u001b[0m, in \u001b[0;36msvd_recommender\u001b[0;34m(train, test, k, debias)\u001b[0m\n\u001b[1;32m     11\u001b[0m user_item_matrix \u001b[38;5;241m=\u001b[39m train\u001b[38;5;241m.\u001b[39mpivot_table(index\u001b[38;5;241m=\u001b[39m\u001b[38;5;124m'\u001b[39m\u001b[38;5;124muser_id\u001b[39m\u001b[38;5;124m'\u001b[39m, columns\u001b[38;5;241m=\u001b[39m\u001b[38;5;124m'\u001b[39m\u001b[38;5;124mitem_id\u001b[39m\u001b[38;5;124m'\u001b[39m, values\u001b[38;5;241m=\u001b[39mcolumn, aggfunc\u001b[38;5;241m=\u001b[39m\u001b[38;5;124m'\u001b[39m\u001b[38;5;124mmean\u001b[39m\u001b[38;5;124m'\u001b[39m, fill_value\u001b[38;5;241m=\u001b[39m\u001b[38;5;241m0\u001b[39m)\n\u001b[1;32m     12\u001b[0m sparse_matrix \u001b[38;5;241m=\u001b[39m csr_matrix(user_item_matrix)\n\u001b[0;32m---> 13\u001b[0m U, sigma, Vt \u001b[38;5;241m=\u001b[39m \u001b[43msvds\u001b[49m\u001b[43m(\u001b[49m\u001b[43msparse_matrix\u001b[49m\u001b[43m,\u001b[49m\u001b[43m \u001b[49m\u001b[43mk\u001b[49m\u001b[38;5;241;43m=\u001b[39;49m\u001b[43mk\u001b[49m\u001b[43m)\u001b[49m\n\u001b[1;32m     14\u001b[0m sigma \u001b[38;5;241m=\u001b[39m np\u001b[38;5;241m.\u001b[39mdiag(sigma)\n\u001b[1;32m     15\u001b[0m predicted_ratings \u001b[38;5;241m=\u001b[39m np\u001b[38;5;241m.\u001b[39mdot(np\u001b[38;5;241m.\u001b[39mdot(U, sigma), Vt)\n",
      "File \u001b[0;32m~/Library/Python/3.9/lib/python/site-packages/scipy/sparse/linalg/_eigen/_svds.py:438\u001b[0m, in \u001b[0;36msvds\u001b[0;34m(A, k, ncv, tol, which, v0, maxiter, return_singular_vectors, solver, random_state, options)\u001b[0m\n\u001b[1;32m     99\u001b[0m \u001b[38;5;28;01mdef\u001b[39;00m\u001b[38;5;250m \u001b[39m\u001b[38;5;21msvds\u001b[39m(A, k\u001b[38;5;241m=\u001b[39m\u001b[38;5;241m6\u001b[39m, ncv\u001b[38;5;241m=\u001b[39m\u001b[38;5;28;01mNone\u001b[39;00m, tol\u001b[38;5;241m=\u001b[39m\u001b[38;5;241m0\u001b[39m, which\u001b[38;5;241m=\u001b[39m\u001b[38;5;124m'\u001b[39m\u001b[38;5;124mLM\u001b[39m\u001b[38;5;124m'\u001b[39m, v0\u001b[38;5;241m=\u001b[39m\u001b[38;5;28;01mNone\u001b[39;00m,\n\u001b[1;32m    100\u001b[0m          maxiter\u001b[38;5;241m=\u001b[39m\u001b[38;5;28;01mNone\u001b[39;00m, return_singular_vectors\u001b[38;5;241m=\u001b[39m\u001b[38;5;28;01mTrue\u001b[39;00m,\n\u001b[1;32m    101\u001b[0m          solver\u001b[38;5;241m=\u001b[39m\u001b[38;5;124m'\u001b[39m\u001b[38;5;124marpack\u001b[39m\u001b[38;5;124m'\u001b[39m, random_state\u001b[38;5;241m=\u001b[39m\u001b[38;5;28;01mNone\u001b[39;00m, options\u001b[38;5;241m=\u001b[39m\u001b[38;5;28;01mNone\u001b[39;00m):\n\u001b[1;32m    102\u001b[0m \u001b[38;5;250m    \u001b[39m\u001b[38;5;124;03m\"\"\"\u001b[39;00m\n\u001b[1;32m    103\u001b[0m \u001b[38;5;124;03m    Partial singular value decomposition of a sparse matrix.\u001b[39;00m\n\u001b[1;32m    104\u001b[0m \n\u001b[0;32m   (...)\u001b[0m\n\u001b[1;32m    436\u001b[0m \n\u001b[1;32m    437\u001b[0m \u001b[38;5;124;03m    \"\"\"\u001b[39;00m\n\u001b[0;32m--> 438\u001b[0m     args \u001b[38;5;241m=\u001b[39m \u001b[43m_iv\u001b[49m\u001b[43m(\u001b[49m\u001b[43mA\u001b[49m\u001b[43m,\u001b[49m\u001b[43m \u001b[49m\u001b[43mk\u001b[49m\u001b[43m,\u001b[49m\u001b[43m \u001b[49m\u001b[43mncv\u001b[49m\u001b[43m,\u001b[49m\u001b[43m \u001b[49m\u001b[43mtol\u001b[49m\u001b[43m,\u001b[49m\u001b[43m \u001b[49m\u001b[43mwhich\u001b[49m\u001b[43m,\u001b[49m\u001b[43m \u001b[49m\u001b[43mv0\u001b[49m\u001b[43m,\u001b[49m\u001b[43m \u001b[49m\u001b[43mmaxiter\u001b[49m\u001b[43m,\u001b[49m\u001b[43m \u001b[49m\u001b[43mreturn_singular_vectors\u001b[49m\u001b[43m,\u001b[49m\n\u001b[1;32m    439\u001b[0m \u001b[43m               \u001b[49m\u001b[43msolver\u001b[49m\u001b[43m,\u001b[49m\u001b[43m \u001b[49m\u001b[43mrandom_state\u001b[49m\u001b[43m)\u001b[49m\n\u001b[1;32m    440\u001b[0m     (A, k, ncv, tol, which, v0, maxiter,\n\u001b[1;32m    441\u001b[0m      return_singular_vectors, solver, random_state) \u001b[38;5;241m=\u001b[39m args\n\u001b[1;32m    443\u001b[0m     largest \u001b[38;5;241m=\u001b[39m (which \u001b[38;5;241m==\u001b[39m \u001b[38;5;124m'\u001b[39m\u001b[38;5;124mLM\u001b[39m\u001b[38;5;124m'\u001b[39m)\n",
      "File \u001b[0;32m~/Library/Python/3.9/lib/python/site-packages/scipy/sparse/linalg/_eigen/_svds.py:44\u001b[0m, in \u001b[0;36m_iv\u001b[0;34m(A, k, ncv, tol, which, v0, maxiter, return_singular, solver, random_state)\u001b[0m\n\u001b[1;32m     42\u001b[0m \u001b[38;5;28;01mif\u001b[39;00m \u001b[38;5;28mint\u001b[39m(k) \u001b[38;5;241m!=\u001b[39m k \u001b[38;5;129;01mor\u001b[39;00m \u001b[38;5;129;01mnot\u001b[39;00m (\u001b[38;5;241m0\u001b[39m \u001b[38;5;241m<\u001b[39m k \u001b[38;5;241m<\u001b[39m\u001b[38;5;241m=\u001b[39m kmax):\n\u001b[1;32m     43\u001b[0m     message \u001b[38;5;241m=\u001b[39m \u001b[38;5;124m\"\u001b[39m\u001b[38;5;124m`k` must be an integer satisfying `0 < k < min(A.shape)`.\u001b[39m\u001b[38;5;124m\"\u001b[39m\n\u001b[0;32m---> 44\u001b[0m     \u001b[38;5;28;01mraise\u001b[39;00m \u001b[38;5;167;01mValueError\u001b[39;00m(message)\n\u001b[1;32m     45\u001b[0m k \u001b[38;5;241m=\u001b[39m \u001b[38;5;28mint\u001b[39m(k)\n\u001b[1;32m     47\u001b[0m \u001b[38;5;66;03m# input validation/standardization for `ncv`\u001b[39;00m\n",
      "\u001b[0;31mValueError\u001b[0m: `k` must be an integer satisfying `0 < k < min(A.shape)`."
     ]
    }
   ],
   "source": [
    "def run_experiment(dataset='yahoo', use_synthetic=False):\n",
    "    # Load dataset\n",
    "    if use_synthetic:\n",
    "        train = generate_synthetic_data()\n",
    "        valid = generate_synthetic_data()\n",
    "        test = generate_synthetic_data()\n",
    "    elif dataset == 'yahoo':\n",
    "        train, valid, test = load_yahoo_data()\n",
    "    elif dataset == 'coat':\n",
    "        train, valid, test = load_coat_data()\n",
    "    \n",
    "    # Compute propensities\n",
    "    train = compute_propensities(train)\n",
    "    valid = compute_propensities(valid)\n",
    "    test = compute_propensities(test)\n",
    "    \n",
    "    # Find best hyperparameters using validation set\n",
    "    best_svd, best_als = grid_search(train, valid, test)\n",
    "    print(f\"Best SVD: {best_svd}, Best ALS: {best_als}\")\n",
    "\n",
    "    # Evaluate models using best hyperparameters\n",
    "    svd_predictions = svd_recommender(train, test, k=best_svd[\"svd_k\"], debias=False)\n",
    "    svd_debias_predictions = svd_recommender(train, test, k=best_svd[\"svd_k\"], debias=True)\n",
    "    als_predictions = als_recommender(train, test, factors=best_als[\"als_factors\"], debias=False)\n",
    "    als_debias_predictions = als_recommender(train, test, factors=best_als[\"als_factors\"], debias=True)\n",
    "\n",
    "    # Evaluate performance\n",
    "    svd_metrics = evaluate(test, svd_predictions)\n",
    "    svd_debias_metrics = evaluate(test, svd_debias_predictions)\n",
    "    als_metrics = evaluate(test, als_predictions)\n",
    "    als_debias_metrics = evaluate(test, als_debias_predictions)\n",
    "\n",
    "    print(\"\\nWithout Bias Correction:\")\n",
    "    print(f\"SVD -> MSE: {svd_metrics[0]:.4f}, MAE: {svd_metrics[1]:.4f}, RMSE: {svd_metrics[2]:.4f}, R2: {svd_metrics[3]:.4f}\")\n",
    "    print(f\"ALS -> MSE: {als_metrics[0]:.4f}, MAE: {als_metrics[1]:.4f}, RMSE: {als_metrics[2]:.4f}, R2: {als_metrics[3]:.4f}\")\n",
    "\n",
    "    print(\"\\nWith Bias Correction:\")\n",
    "    print(f\"SVD -> MSE: {svd_debias_metrics[0]:.4f}, MAE: {svd_debias_metrics[1]:.4f}, RMSE: {svd_debias_metrics[2]:.4f}, R2: {svd_debias_metrics[3]:.4f}\")\n",
    "    print(f\"ALS -> MSE: {als_debias_metrics[0]:.4f}, MAE: {als_debias_metrics[1]:.4f}, RMSE: {als_debias_metrics[2]:.4f}, R2: {als_debias_metrics[3]:.4f}\")\n",
    "\n",
    "    # Plot comparisons\n",
    "    labels = ['SVD', 'SVD Debias', 'ALS', 'ALS Debias']\n",
    "    mse_values = [svd_metrics[0], svd_debias_metrics[0], als_metrics[0], als_debias_metrics[0]]\n",
    "    mae_values = [svd_metrics[1], svd_debias_metrics[1], als_metrics[1], als_debias_metrics[1]]\n",
    "    rmse_values = [svd_metrics[2], svd_debias_metrics[2], als_metrics[2], als_debias_metrics[2]]\n",
    "    r2_values = [svd_metrics[3], svd_debias_metrics[3], als_metrics[3], als_debias_metrics[3]]\n",
    "\n",
    "    fig, ax = plt.subplots(2, 2, figsize=(12, 10))\n",
    "\n",
    "    ax[0, 0].bar(labels, mse_values, color=['blue', 'green', 'orange', 'red'])\n",
    "    ax[0, 0].set_title(\"MSE Comparison\")\n",
    "    ax[0, 0].set_ylabel(\"MSE\")\n",
    "\n",
    "    ax[0, 1].bar(labels, mae_values, color=['blue', 'green', 'orange', 'red'])\n",
    "    ax[0, 1].set_title(\"MAE Comparison\")\n",
    "    ax[0, 1].set_ylabel(\"MAE\")\n",
    "\n",
    "    ax[1, 0].bar(labels, rmse_values, color=['blue', 'green', 'orange', 'red'])\n",
    "    ax[1, 0].set_title(\"RMSE Comparison\")\n",
    "    ax[1, 0].set_ylabel(\"RMSE\")\n",
    "\n",
    "    ax[1, 1].bar(labels, r2_values, color=['blue', 'green', 'orange', 'red'])\n",
    "    ax[1, 1].set_title(\"R² Score Comparison\")\n",
    "    ax[1, 1].set_ylabel(\"R²\")\n",
    "\n",
    "    plt.tight_layout()\n",
    "    plt.show()\n",
    "\n",
    "\n",
    "# Run experiments on different datasets\n",
    "if __name__ == \"__main__\":\n",
    "    print(\"\\nRunning Yahoo Dataset Experiment:\")\n",
    "    run_experiment(dataset='yahoo', use_synthetic=False)\n",
    "    \n",
    "    print(\"\\nRunning Coat Dataset Experiment:\")\n",
    "    run_experiment(dataset='coat', use_synthetic=False)\n",
    "    \n",
    "    print(\"\\nRunning Synthetic Dataset Experiment:\")\n",
    "    run_experiment(dataset='', use_synthetic=True)"
   ]
  },
  {
   "cell_type": "code",
   "execution_count": 18,
   "metadata": {},
   "outputs": [
    {
     "name": "stdout",
     "output_type": "stream",
     "text": [
      "Neural Collaborative Filtering (NCF):\n",
      "(4.8175506591796875, 1.8596620559692383, np.float64(2.1948919470396913), -3.311800479888916)\n"
     ]
    }
   ],
   "source": [
    "def evaluate_ncf(model, test):\n",
    "    model.eval()\n",
    "    test_users = torch.tensor(test['user_id'].values, dtype=torch.long)\n",
    "    test_items = torch.tensor(test['item_id'].values, dtype=torch.long)\n",
    "    with torch.no_grad():\n",
    "        predictions = model(test_users, test_items).numpy()\n",
    "    return predictions\n",
    "\n",
    "def run_experiment(dataset='yahoo', use_synthetic=False):\n",
    "    if use_synthetic:\n",
    "        train = generate_synthetic_data()\n",
    "        valid = generate_synthetic_data()\n",
    "        test = generate_synthetic_data()\n",
    "    elif dataset == 'yahoo':\n",
    "        train, valid, test = load_yahoo_data()\n",
    "    elif dataset == 'coat':\n",
    "        train, valid, test = load_coat_data()\n",
    "    \n",
    "    train = compute_propensities(train)\n",
    "    valid = compute_propensities(valid)\n",
    "    test = compute_propensities(test)\n",
    "    \n",
    "    best_k = 20\n",
    "    \n",
    "    ncf_model = train_ncf(train, valid)\n",
    "    ncf_predictions = evaluate_ncf(ncf_model, test)\n",
    "    \n",
    "    print(\"Neural Collaborative Filtering (NCF):\")\n",
    "    print(evaluate(test, ncf_predictions))\n",
    "    \n",
    "if __name__ == \"__main__\":\n",
    "    run_experiment(dataset='yahoo', use_synthetic=False)\n"
   ]
  }
 ],
 "metadata": {
  "kernelspec": {
   "display_name": "Python 3",
   "language": "python",
   "name": "python3"
  },
  "language_info": {
   "codemirror_mode": {
    "name": "ipython",
    "version": 3
   },
   "file_extension": ".py",
   "mimetype": "text/x-python",
   "name": "python",
   "nbconvert_exporter": "python",
   "pygments_lexer": "ipython3",
   "version": "3.9.6"
  }
 },
 "nbformat": 4,
 "nbformat_minor": 2
}
